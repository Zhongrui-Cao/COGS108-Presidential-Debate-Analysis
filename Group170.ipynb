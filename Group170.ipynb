{
 "cells": [
  {
   "cell_type": "markdown",
   "metadata": {},
   "source": [
    "# COGS 108: Presidential Inaugural Address and 2016 Debate Analysis"
   ]
  },
  {
   "cell_type": "markdown",
   "metadata": {},
   "source": [
    "# The Team\n",
    "Names and PIDs\n",
    "\n",
    "- **Kimiko Okumura**, A13577492\n",
    "- **Isabella Froman**, A13152119\n",
    "- **Jeff Xu**, A15653719\n",
    "- **Zhongrui Cao**, A15541281"
   ]
  },
  {
   "cell_type": "markdown",
   "metadata": {},
   "source": [
    "# Introduction and Background\n",
    "\n",
    "As the United States and global political landscape grow more complicated and more polarized, we ask the question: how did we get here? Why are we here? Whether you are satified or discouraged by current affairs, understanding the current situation -- as well as any historical precendence -- may be key to moving forward toward a world you'd rather see. \n",
    "\n",
    "In politics, data science is essential to predicting election results and measuring public attitudes. It can be used to help the public form expectations on which policies to come -- and can even be used to characterize the political attitudes of a speech or region.\n",
    "\n",
    "We used 6 metrics (defined below) to understand, analyze, and compare the two types of speeches. For the debate data, we structured it as \"Trump vs. Clinton\" by dividing the corpus of three debate transcripts into datasets that define who is speaking. For the inaugural addresses, we used clustering to define three distinct eras in American history -- to be used to compare against other eras and to compare against the speech tactics of the 2016 presidential debates.\n",
    "\n",
    "\n",
    "### Research Question\n",
    "Our initial topic was on media engagement of newsworthy events -- exploring how long events of different types last in the public awareness. However, over the course of discussion and preparing for this topic, we found it very difficult to access data for Twitter. During this time, we began leaning toward text analysis and language processing, which prompted a brainstorm session for a new topic. Individual interest combined with suggestions from class (about analyzing song lyrics) inspired us to shift our focus to the political sphere -- and specifically how speech techniques have changed over time and how they differ across political party lines.\n",
    "\n",
    "**How do Presidential inaugural addresses change over time, and how does this compare to Clinton-Trump debates in the 2016 Presidential election?**\n",
    "\n",
    "To explore this, we are further asking: how might the speech patterns of the recent candidates (as well as presidents over time) reflect changing times and differing opinions? Does this have implications about other cultural changes and what the future of the Presidential Office might bring?"
   ]
  },
  {
   "cell_type": "markdown",
   "metadata": {},
   "source": [
    "### Metrics of Focus\n",
    "\n",
    "We will be examining 6 metrics to help us extract emerging patterns from inaugural addresses and debates. These 6 metrics are:\n",
    "\n",
    "   **1) Total Words** - How many words are said in total? The total length may represent cultural values about speech techniques such as detail vs. brevity.\n",
    "   \n",
    "   **2) Word Frequency** - Which words are used most frequently? This represents the focus of each candidate, and can be used to loosely characterize the candidate or president's personality -- or in the case of clustering, define the cultural values of an era.\n",
    "   \n",
    "   **3) Average Word Length** - How long (and by extension, how complex) are the words each candidate is using? This represents simplicity, and may have implications about the candidate's intelligence or the intended audience of the speech.\n",
    "\n",
    "   **4) Narcissism Index** - What is the proportion of occurrences of “I,” “me,” and other self-referential words compared to other words? This represents a personality trait believed to be in many successful people -- a lot of discussion of Donald Trump explores topics such as narcissism.\n",
    "\n",
    "   **5) Lexical Density / Vocabulary Distribution** - What is the distribution of different kinds of words used? This represents the variety of words the candidate uses -- which may reflect the candidate's perceived intelligence.\n",
    "\n",
    "   **6) Sentiment Analysis** - What is the emotional content of the speech? This represents the emotional values of each candidate, and also loosely represents the candidate's personality."
   ]
  },
  {
   "cell_type": "markdown",
   "metadata": {},
   "source": [
    "### Hypothesis\n",
    "\n",
    "We think that Donald Trump's debates will have a lower average word length, higher degrees of narcissism, higher density of (fewer unique) words, extreme emotional sentiment (positive and negative). We believe this will be due to Trump's lack of political experience, as well as his reputation as a brash and decisive person.\n",
    "\n",
    "In contrast, Hillary Clinton's debates will have a higher average word length and sentence length, lower degrees of narcissism, lower density of (more unique) words, and more neutral in emotional sentiment. We believe this will be due to Clinton's experience as a politician, as well as her reputation as an educated and calculating person.\n",
    "\n",
    "In our time-scale analysis of inaugural addresses, we hypothesize that word frequency increases, average word length and sentence length decrease, narcissism increases, and lexical density increases over time. We believe this due to an increasing appeal to the public (including those not educated about political affairs).\n",
    "\n",
    "For each of these comparative analyses, the null hypothesis is that the debate techniques (defined by our 6 metrics) of debates are not significantly different from inaugural addresses. Our alternative hypothesis is that there is a statistically significant difference between the debate techniques and the inaugural address techniques."
   ]
  },
  {
   "cell_type": "markdown",
   "metadata": {},
   "source": [
    "### Prior work and research on text and sentiment analysis:\n",
    "\n",
    "\n",
    "References (with inline links):\n",
    "\n",
    "1) [Natural Language Toolkit (NLTK)](https://www.nltk.org/)\n",
    "This package has been instrumental to our analysis in providing a framework for analysis speech and sentiment.\n",
    "\n",
    "\n",
    "2) [Trump-specific transcript data and analysis](https://factba.se/)\n",
    "This website conducts data analysis on Trump's speeches, as well as collects/analyzes data on other conservative politicians. This set some examples for what our project could look like.\n",
    "\n",
    "\n",
    "3) [NLP on Inaugural Address](https://towardsdatascience.com/intro-to-nlp-using-inaugural-speeches-of-presidents-8c7ca32cbdfe)\n",
    "This is a guide to using natural language processing -- using inaugural addresses as the corpus. This was VERY helpful in our preliminary research.\n",
    "\n",
    "\n",
    "4) [Example of Inaugural Speech Analysis](https://pradeepadhokshaja.wordpress.com/2017/05/01/analysis-of-inaugural-speech-data-part-1/)\n",
    "This is an example of an analysis of inaugural addresses -- it also set the tone for our project.\n",
    "\n",
    "\n",
    "5) [Sentiment Analysis on State of the Union Speeches](https://towardsdatascience.com/sentiment-of-the-union-analyzing-presidential-state-of-the-union-addresses-with-python-2a8667a578b9)\n",
    "This is an example of sentiment analysis of State of the Union Presidential Addresses -- another example that inspired our project.\n",
    "\n",
    "6) [Analysis and Comparison of Trump's Inaugural Speech](https://towardsdatascience.com/a-data-science-exercise-how-similar-is-trump-to-other-presidents-based-on-inaugural-speeches-8fa7f534a5fb)\n",
    "A further example of inaugural address analysis -- this time involving Donald Trump specifically.\n",
    "\n",
    "\n",
    "7) [Measuring candidate narcissism](https://www.datascience.com/blog/debates/)\n",
    "A guide to measuring narcissism in a speech corpus -- particularly focused on presidential speeches. Crucial to our project and goals."
   ]
  },
  {
   "cell_type": "markdown",
   "metadata": {},
   "source": [
    "# Dataset(s)"
   ]
  },
  {
   "cell_type": "markdown",
   "metadata": {},
   "source": [
    "### Clinton-Trump Debate Datasets\n",
    "\n",
    "**\"September 26, 2016: The First Clinton-Trump Presidential Debate\"**\n",
    "- Link to the dataset: https://www.debates.org/voter-education/debate-transcripts/september-26-2016-debate-transcript/\n",
    "- Number of observations: Textual analysis\n",
    "\n",
    "This is a transcript of the *first* Presidential debate between Hillary Clinton and Donald Trump in the 2016 United States Presidential Election. The moderator is Lester Holt from NBC News, who prompts the candidates with questions. These debates cover several topics that are key to defining candidates' policies, personalities, and goals -- with the intention of demonstrating competence and persuading undecided voters.\n",
    "\n",
    "**October 9, 2016: The Second Clinton-Trump Presidential Debate**\n",
    "- Link to the dataset: https://www.debates.org/voter-education/debate-transcripts/october-9-2016-debate-transcript/\n",
    "- Number of observations: Textual analysis\n",
    "\n",
    "This is a transcript of the *second* Presidential debate between Hillary Clinton and Donald Trump in the 2016 United States Presidential Election. The moderators are Anderson Cooper from CNN and Martha Raddatz from ABC News, who prompts the candidates with questions. These debates cover several topics that are key to defining candidates' policies, personalities, and goals -- with the intention of demonstrating competence and persuading undecided voters.\n",
    "\n",
    "**October 19, 2016: The Third Clinton-Trump Presidential Debate**\n",
    "- Link to the dataset: https://www.debates.org/voter-education/debate-transcripts/october-19-2016-debate-transcript/\n",
    "- Number of observations: Textual analysis\n",
    "\n",
    "This is a transcript of the *third and final* Presidential debate between Hillary Clinton and Donald Trump in the 2016 United States Presidential Election. The moderator is Chris Wallace from Fox News, who prompts the candidates with questions. These debates cover several topics that are key to defining candidates' policies, personalities, and goals -- with the intention of demonstrating competence and persuading undecided voters.\n",
    "\n",
    "### Inaugural Addresses Dataset\n",
    "\n",
    "**Dataset Name: Presidential Inaugural Addresses**\n",
    "- Link to the dataset: https://www.kaggle.com/adhok93/presidentialaddress?fbclid=IwAR0UXh5kvnZXTMcIDO9t7DEIhn-L7QJMpVMLWTxF55jdhqu3EAdiJiPKVW4\n",
    "- Number of observations: 58 -- There are 58 separate speeches.\n",
    "\n",
    "This is a .csv file of the President Inaugural Addresses since the first President George Washington. The .csv file contains the name of each president, which (first or second) address it is, the date of the speech, and the full transcript of the inaugural address. The purpose of these speeches is to address the country after being voted into office -- usually to inspire confidence in the president's capabilities and set the tone for their upcoming term as President of the United States.\n",
    "\n",
    "\n",
    "### Combining Datasets\n",
    "The three debate transcripts will be compared with each other to find any important words, patterns, or differences among candidates, and then will be combined with each other to create a \"Clinton vs. Trump\" Corpus. The inaugural addresses will be kept distinct -- measuring each of our metrics -- and then compared to the debate corpus.\n",
    "\n",
    "However, inaugural addresses and presidential debates are fundamentally different speeches. Inaugural addresses are announcements, while debates are much more persuasive in nature. There are also much more rigid rules about debates than inaugural speeches. For this reason, the two types will not be compared on every single metric, and instead will be discussed in separate terms."
   ]
  },
  {
   "cell_type": "markdown",
   "metadata": {},
   "source": [
    "# Setup"
   ]
  },
  {
   "cell_type": "markdown",
   "metadata": {},
   "source": [
    "To set up, we imported our necessary packages and modules. Some of these include standard python packages such as Pandas and Numpy, but other were more specific to our project, such as the Natural Language Processing Toolkit (NLTK) and data visualization toolkits such as Seaborn."
   ]
  },
  {
   "cell_type": "code",
   "execution_count": 1,
   "metadata": {},
   "outputs": [
    {
     "name": "stdout",
     "output_type": "stream",
     "text": [
      "Requirement already satisfied: mosestokenizer in /anaconda3/lib/python3.7/site-packages (1.0.0)\n",
      "Requirement already satisfied: openfile in /anaconda3/lib/python3.7/site-packages (from mosestokenizer) (0.0.7)\n",
      "Requirement already satisfied: docopt in /anaconda3/lib/python3.7/site-packages (from mosestokenizer) (0.6.2)\n",
      "Requirement already satisfied: toolwrapper in /anaconda3/lib/python3.7/site-packages (from mosestokenizer) (0.4.1)\n",
      "Requirement already satisfied: TextBlob in /anaconda3/lib/python3.7/site-packages (0.15.3)\n",
      "Requirement already satisfied: nltk>=3.1 in /anaconda3/lib/python3.7/site-packages (from TextBlob) (3.4)\n",
      "Requirement already satisfied: six in /anaconda3/lib/python3.7/site-packages (from nltk>=3.1->TextBlob) (1.12.0)\n",
      "Requirement already satisfied: singledispatch in /anaconda3/lib/python3.7/site-packages (from nltk>=3.1->TextBlob) (3.4.0.3)\n"
     ]
    }
   ],
   "source": [
    "#Install\n",
    "!pip install mosestokenizer\n",
    "!pip install TextBlob"
   ]
  },
  {
   "cell_type": "code",
   "execution_count": 2,
   "metadata": {
    "scrolled": true
   },
   "outputs": [
    {
     "name": "stderr",
     "output_type": "stream",
     "text": [
      "[nltk_data] Downloading package punkt to\n",
      "[nltk_data]     /Users/kimikookumura/nltk_data...\n",
      "[nltk_data]   Package punkt is already up-to-date!\n",
      "[nltk_data] Downloading package stopwords to\n",
      "[nltk_data]     /Users/kimikookumura/nltk_data...\n",
      "[nltk_data]   Package stopwords is already up-to-date!\n",
      "[nltk_data] Downloading package vader_lexicon to\n",
      "[nltk_data]     /Users/kimikookumura/nltk_data...\n",
      "[nltk_data]   Package vader_lexicon is already up-to-date!\n",
      "[nltk_data] Downloading package perluniprops to\n",
      "[nltk_data]     /Users/kimikookumura/nltk_data...\n",
      "[nltk_data]   Package perluniprops is already up-to-date!\n"
     ]
    }
   ],
   "source": [
    "# General packages\n",
    "import string\n",
    "import pandas as pd\n",
    "import numpy as np\n",
    "import math\n",
    "import random\n",
    "\n",
    "# Language analysis: Import nltk package, PennTreeBank word \n",
    "# tokenizer, Frequency Distribution, English language stopwords\n",
    "import nltk\n",
    "from nltk.tokenize import RegexpTokenizer\n",
    "from nltk.tokenize import word_tokenize\n",
    "from nltk.tokenize import sent_tokenize\n",
    "from nltk.probability import FreqDist\n",
    "from nltk.corpus import stopwords\n",
    "from nltk.sentiment.vader import SentimentIntensityAnalyzer \n",
    "from textblob import TextBlob\n",
    "from nltk.stem.snowball import SnowballStemmer\n",
    "from mosestokenizer import MosesTokenizer, MosesDetokenizer\n",
    "\n",
    "\n",
    "nltk.download('punkt')\n",
    "nltk.download('stopwords')\n",
    "nltk.download('vader_lexicon')\n",
    "nltk.download('perluniprops')\n",
    "\n",
    "# General Analysis\n",
    "from sklearn.feature_extraction.text import TfidfVectorizer\n",
    "from datetime import datetime\n",
    "from statistics import mean\n",
    "from scipy import stats\n",
    "\n",
    "# Data Visualization\n",
    "import matplotlib\n",
    "import matplotlib.pyplot as plt\n",
    "from matplotlib import colors\n",
    "from matplotlib.ticker import PercentFormatter\n",
    "import seaborn as sns\n",
    "plt.rcParams.update({'font.size': 10})\n",
    "\n",
    "from sklearn.feature_extraction.text import TfidfVectorizer\n",
    "from sklearn.svm import SVC\n",
    "from sklearn.metrics import classification_report, \\\n",
    "                            precision_recall_fscore_support\n",
    "from datetime import datetime\n",
    "from nltk.stem.snowball import SnowballStemmer\n",
    "\n",
    "# Web Scraping\n",
    "import bs4\n",
    "from bs4 import BeautifulSoup\n",
    "import requests\n",
    "\n",
    "#Regular Expression\n",
    "import re\n"
   ]
  },
  {
   "cell_type": "code",
   "execution_count": 3,
   "metadata": {},
   "outputs": [
    {
     "name": "stdout",
     "output_type": "stream",
     "text": [
      "Requirement already satisfied: TextBlob in /anaconda3/lib/python3.7/site-packages (0.15.3)\n",
      "Requirement already satisfied: nltk>=3.1 in /anaconda3/lib/python3.7/site-packages (from TextBlob) (3.4)\n",
      "Requirement already satisfied: six in /anaconda3/lib/python3.7/site-packages (from nltk>=3.1->TextBlob) (1.12.0)\n",
      "Requirement already satisfied: singledispatch in /anaconda3/lib/python3.7/site-packages (from nltk>=3.1->TextBlob) (3.4.0.3)\n"
     ]
    }
   ],
   "source": [
    "!pip install TextBlob"
   ]
  },
  {
   "cell_type": "markdown",
   "metadata": {},
   "source": [
    "### Set Up Inaugural Speeches Data"
   ]
  },
  {
   "cell_type": "code",
   "execution_count": 4,
   "metadata": {},
   "outputs": [],
   "source": [
    "# Read in the large Inaugural speech corpus into a DataFrame\n",
    "\n",
    "inaug_dat = pd.read_csv(\"Data/inaug_speeches.csv\", encoding = \"utf-8\")"
   ]
  },
  {
   "cell_type": "markdown",
   "metadata": {},
   "source": [
    "### Set Up Clinton vs. Trump Debate Data"
   ]
  },
  {
   "cell_type": "code",
   "execution_count": 5,
   "metadata": {},
   "outputs": [],
   "source": [
    "# Read in the three debates datasets of focus\n",
    "\n",
    "d1 = list(open(\"Data/Debates from 2016/19-2016-debate.txt\", \"r\", \\\n",
    "               encoding='utf-8').readlines())\n",
    "d2 = list(open(\"Data/Debates from 2016/26-2016-debate.txt\", \"r\", \\\n",
    "               encoding='utf-8').readlines())\n",
    "d3 = list(open(\"Data/Debates from 2016/9-2016-debate.txt\", \"r\", \\\n",
    "               encoding='utf-8').readlines())"
   ]
  },
  {
   "cell_type": "markdown",
   "metadata": {},
   "source": [
    "# Data Wrangling, Cleaning, and Pre-processing"
   ]
  },
  {
   "cell_type": "markdown",
   "metadata": {},
   "source": [
    "Data cleaning occured in several steps -- as we had two distinct types of datasets, the cleaning required for each was very different.\n",
    "\n",
    "For the inaugural data, several trancsript cells of the .csv had strange symbols or unicode strings, which needed to be removed. We wrote a function to remove it, and used other general data cleaning techniques such as .lower(). We also took out stopwords, defined tokens, and added term numbers to each speech (to specify which term each president was spekaing for).\n",
    "\n",
    "For the debate data, all three of the debate transcripts had a dialogue format -- similar to a script -- since each debate had 3 or 4 people speaking. This meant we had to take out all of \"CLINTON:\" and \"TRUMP:\" headers, as well as keep the speakers distinct in their own sets for comparative analysis. In addition, we removed stopwords and made the corpus lowercase."
   ]
  },
  {
   "cell_type": "markdown",
   "metadata": {},
   "source": [
    "## > Inaugural Data\n",
    "We set up functions to clean up and interpret our data. We realized that in our inaugural speeches, there were random unicode strings floating around along with random \"? ? ?\" strings so we created these to correspondingly filter them out. We also needed to convert the string dates into comparable dates, which was done using the datetime.strptime method."
   ]
  },
  {
   "cell_type": "code",
   "execution_count": 6,
   "metadata": {},
   "outputs": [],
   "source": [
    "# Define function cleanText\n",
    "# Remove alphanumeric strings\n",
    "def cleanText( inputText ):\n",
    "    return re.sub(r'[^\\w ]', '',inputText);\n",
    "\n",
    "# Define removeUnicode function\n",
    "# Does a global search, removes Unicode substrings\n",
    "\n",
    "def removeUnicode(str):\n",
    "    str = str.lower()\n",
    "    mod_str = re.sub(r'[<|>|+]','',str)\n",
    "    return re.sub(r'u+00+[0-9]+[0-9]','',mod_str);\n",
    "        \n",
    "# Define removeQ function\n",
    "# Takes a string, returns a modified string without question marks \n",
    "def removeQ(str):\n",
    "    return str.replace(\"?\",\"\")"
   ]
  },
  {
   "cell_type": "code",
   "execution_count": 8,
   "metadata": {},
   "outputs": [
    {
     "data": {
      "text/plain": [
       "'fjdskljsdkfdsfdfdd hello jfkdljd '"
      ]
     },
     "execution_count": 8,
     "metadata": {},
     "output_type": "execute_result"
    }
   ],
   "source": [
    "#removeUnicode() test\n",
    "test = \"fjd+skl+jsdk<fdsfd>fdd hello <u+0094>jfkdljd <u00938>\"\n",
    "removeUnicode(test)"
   ]
  },
  {
   "cell_type": "code",
   "execution_count": 9,
   "metadata": {},
   "outputs": [],
   "source": [
    "# Define English stopwords \n",
    "stopWords = set(stopwords.words('english'))\n",
    "\n",
    "# Define function tokenizeAdd\n",
    "# Pass in speech transcript, change everything to lowercase,\n",
    "# remove stopwords and return the rest of the word tokens\n",
    "def tokenizeAdd (raw):\n",
    "    result = []\n",
    "    for w in raw:\n",
    "        if w.lower() not in stopWords:\n",
    "            result.append(w)\n",
    "    return result"
   ]
  },
  {
   "cell_type": "code",
   "execution_count": 10,
   "metadata": {},
   "outputs": [],
   "source": [
    "# Define tokenizer, modify it to remove punctuation.\n",
    "tokenizer = RegexpTokenizer(r'\\w+')"
   ]
  },
  {
   "cell_type": "code",
   "execution_count": 11,
   "metadata": {},
   "outputs": [],
   "source": [
    "#ONLY RUN ONCE\n",
    "\n",
    "# Loop through all inaugural address speeches\n",
    "# Remove unicode substrings\n",
    "# Remove punctuation\n",
    "\n",
    "inaug_word_tokens = []\n",
    "inaug_word_tokens_nostop = []\n",
    "inaug_sent = []\n",
    "\n",
    "# Create list for word tokens with stop words\n",
    "for i in inaug_dat.index:\n",
    "    inaug_dat.iloc[i,4] = removeUnicode(str(inaug_dat.iloc[i,4]))\n",
    "    inaug_dat.iloc[i,4] = removeQ(inaug_dat.iloc[i,4])\n",
    "    inaug_dat.iloc[i,4] = inaug_dat.iloc[i,4].replace(\",\",\"\")\n",
    "    inaug_dat.iloc[i,4] = inaug_dat.iloc[i,4].replace(\":\",\"\")\n",
    "    inaug_dat.iloc[i,4] = inaug_dat.iloc[i,4].replace(\"-\",\" \")\n",
    "    inaug_dat.iloc[i,4] = inaug_dat.iloc[i,4].replace(\";\",\"\")\n",
    "    inaug_dat.iloc[i,4] = inaug_dat.iloc[i,4].replace(\"(\",\"\")\n",
    "    inaug_dat.iloc[i,4] = inaug_dat.iloc[i,4].replace(\")\",\"\")\n",
    "    inaug_sent.append(inaug_dat.iloc[i,4])\n",
    "    inaug_dat.iloc[i,4] = inaug_dat.iloc[i,4].replace(\".\",\"\")\n",
    "    inaug_word_tokens.append(nltk.word_tokenize(inaug_dat.iloc[i,4]))  \n",
    "\n",
    "# Create list for word tokens without stop words\n",
    "for e in inaug_word_tokens:\n",
    "    for w in inaug_word_tokens[i]:\n",
    "        if w.lower() not in stopWords:\n",
    "            inaug_word_tokens_nostop.append(w)"
   ]
  },
  {
   "cell_type": "code",
   "execution_count": 12,
   "metadata": {},
   "outputs": [],
   "source": [
    "# Add in the term number as a column\n",
    "#ONLY RUN ONCE\n",
    "\n",
    "term = list(range(1, 59))\n",
    "inaug_dat['Term'] = term\n",
    "\n",
    "inaug_dat.columns = ['Trash','Name','Inaugural Address','Date',\\\n",
    "                     'Text','Term']\n",
    "\n",
    "inaug_dat = inaug_dat.drop(columns=['Trash'])"
   ]
  },
  {
   "cell_type": "markdown",
   "metadata": {},
   "source": [
    "## > Debate Data"
   ]
  },
  {
   "cell_type": "code",
   "execution_count": 14,
   "metadata": {},
   "outputs": [],
   "source": [
    "currentSpeaker = \"\"\n",
    "whatTrumpSaid = \"\"\n",
    "whatClintonSaid = \"\"\n",
    "\n",
    "##reading what C and T said\n",
    "#19 debate\n",
    "for line in d1:\n",
    "    if \"TRUMP\" in line:\n",
    "        whatTrumpSaid = whatTrumpSaid + line\n",
    "        currentSpeaker = \"TRUMP\"\n",
    "        continue\n",
    "    if \"CLINTON\" in line:\n",
    "        whatClintonSaid = whatClintonSaid + line\n",
    "        currentSpeaker = \"CLINTON\"\n",
    "        continue\n",
    "    if \"WALLACE\" in line:\n",
    "        currentSpeaker = \"WALLACE\"\n",
    "        continue\n",
    "    if currentSpeaker == \"TRUMP\":\n",
    "        whatTrumpSaid = whatTrumpSaid + line\n",
    "    if currentSpeaker == \"CLINTON\":\n",
    "        whatClintonSaid = whatClintonSaid + line\n",
    "    if currentSpeaker == \"WALLACE\":\n",
    "        continue\n",
    "\n",
    "#26 debate\n",
    "for line in d2:\n",
    "    if \"TRUMP\" in line:\n",
    "        whatTrumpSaid = whatTrumpSaid + line\n",
    "        currentSpeaker = \"TRUMP\"\n",
    "        continue\n",
    "    if \"CLINTON\" in line:\n",
    "        whatClintonSaid = whatClintonSaid + line\n",
    "        currentSpeaker = \"CLINTON\"\n",
    "        continue\n",
    "    if \"HOLT\" in line:\n",
    "        currentSpeaker = \"HOLT\"\n",
    "        continue\n",
    "    if currentSpeaker == \"TRUMP\":\n",
    "        whatTrumpSaid = whatTrumpSaid + line\n",
    "    if currentSpeaker == \"CLINTON\":\n",
    "        whatClintonSaid = whatClintonSaid + line\n",
    "    if currentSpeaker == \"HOLT\":\n",
    "        continue\n",
    "\n",
    "#9 debate\n",
    "for line in d3:\n",
    "    if \"TRUMP\" in line:\n",
    "        whatTrumpSaid = whatTrumpSaid + line\n",
    "        currentSpeaker = \"TRUMP\"\n",
    "        continue\n",
    "    if \"CLINTON\" in line:\n",
    "        whatClintonSaid = whatClintonSaid + line\n",
    "        currentSpeaker = \"CLINTON\"\n",
    "        continue\n",
    "    if \"RADDATZ\" in line:\n",
    "        currentSpeaker = \"RADDATZ\"\n",
    "        continue\n",
    "    if \"COOPER\" in line:\n",
    "        currentSpeaker = \"COOPER\"\n",
    "        continue\n",
    "    if \"QUESTION\" in line:\n",
    "        currentSpeaker = \"QUESTION\"\n",
    "        continue\n",
    "    if currentSpeaker == \"TRUMP\":\n",
    "        whatTrumpSaid = whatTrumpSaid + line\n",
    "    if currentSpeaker == \"CLINTON\":\n",
    "        whatClintonSaid = whatClintonSaid + line\n",
    "    if currentSpeaker == \"RADDATZ\":\n",
    "        continue\n",
    "    if currentSpeaker == \"COOPER\":\n",
    "        continue\n",
    "    if currentSpeaker == \"QUESTION\":\n",
    "        continue"
   ]
  },
  {
   "cell_type": "code",
   "execution_count": 15,
   "metadata": {},
   "outputs": [],
   "source": [
    "# Modify the tokenizer to remove punctuations\n",
    "tokenizer = RegexpTokenizer(r'\\w+')\n",
    "\n",
    "# Clean data to remove punctuation unecessary for analysis\n",
    "whatTrumpSaid = whatTrumpSaid.replace(\"TRUMP: \", \"\")\n",
    "whatTrumpSaid = whatTrumpSaid.replace(\"\\n\",\"\")\n",
    "whatTrumpSaid = whatTrumpSaid.replace(\"—\",\" \")\n",
    "whatTrumpSaid = whatTrumpSaid.replace(\":\",\" \")\n",
    "whatTrumpSaid = whatTrumpSaid.replace(\"[crosstalk]\",\" \")\n",
    "\n",
    "whatTrumpSaid = whatTrumpSaid.replace(\"[applause]\",\" \")\n",
    "whatTrumpSaid = whatTrumpSaid.lower()\n",
    "TrumpTokens = tokenizer.tokenize(whatTrumpSaid)\n",
    "\n",
    "whatClintonSaid = whatClintonSaid.replace(\"CLINTON: \", \"\")\n",
    "whatClintonSaid = whatClintonSaid.replace(\"\\n\",\"\")\n",
    "whatClintonSaid = whatClintonSaid.replace(\"–\",\" \")\n",
    "whatClintonSaid = whatClintonSaid.replace(\"[crosstalk]\",\"\")\n",
    "whatClintonSaid = whatClintonSaid.lower()\n",
    "ClintonTokens = tokenizer.tokenize(whatClintonSaid)"
   ]
  },
  {
   "cell_type": "code",
   "execution_count": 16,
   "metadata": {},
   "outputs": [],
   "source": [
    "# Remove stopwords and storing it into a new list so the\n",
    "# original is still accessible\n",
    "stopWords = set(stopwords.words('english'))\n",
    "TrumpNoStopTokens = []\n",
    "ClintonNoStopTokens = []\n",
    "\n",
    "for w in TrumpTokens:\n",
    "    if w.lower() not in stopWords:\n",
    "        TrumpNoStopTokens.append(w)\n",
    "        \n",
    "for w in ClintonTokens:\n",
    "    if w.lower() not in stopWords:\n",
    "        ClintonNoStopTokens.append(w)"
   ]
  },
  {
   "cell_type": "markdown",
   "metadata": {},
   "source": [
    "# Data Analysis & Results"
   ]
  },
  {
   "cell_type": "markdown",
   "metadata": {},
   "source": [
    "We looked at the Inaugural Addresses and 2016 Clinton-Trump debates for all seven metrics previously outlined. For each relevant metric, we also compared the addresses and debates to see if the debate techiniques fit in with what could be considered \"Presidential Speech Tactics\" as defined by the average values of the Inaugural Addresses."
   ]
  },
  {
   "cell_type": "markdown",
   "metadata": {},
   "source": [
    "### Clustering Inaugural Speeches\n",
    "In the following section, we plan to analyze presidential inaugural speeches and how \n",
    "they have changed over time in terms of relevant content. Specifically, we will accompish\n",
    "this through scikit learn's KMeans method combined with the TFIDF functions. Instead of clustering every single inaugural address, we decided that discrete intervals of time periods would be better to visualize the differences. We found that if we included every single inagural speech, the clusters would be very inconsistent upon the changing of very small parameters."
   ]
  },
  {
   "cell_type": "code",
   "execution_count": 17,
   "metadata": {},
   "outputs": [
    {
     "name": "stderr",
     "output_type": "stream",
     "text": [
      "stdbuf was not found; communication with perl may hang due to stdio buffering.\n"
     ]
    }
   ],
   "source": [
    "snowStemmer = SnowballStemmer(\"english\").stem\n",
    "detokenizer = MosesDetokenizer()\n",
    "\n",
    "# Remove non-alpha-numeric strings\n",
    "# Does not tokenize\n",
    "def cleanText( inputText ):\n",
    "    inputText = removeUnicode( inputText )\n",
    "    return re.sub(r'[^\\w\\- ]', '', inputText );\n",
    "\n",
    "# Convert string into date-time object\n",
    "def convertDate( timeStr ):\n",
    "    timeStr = timeStr.strip()\n",
    "    date = 0;\n",
    "    try:\n",
    "        date = datetime.strptime( timeStr, '%A, %B %d, %Y' )\n",
    "    except:\n",
    "        date = datetime.strptime( timeStr, '%B %d, %Y' )\n",
    "    return date\n",
    "\n",
    "# Will handle tokenization, stop words, and stemming\n",
    "def processText( text ):\n",
    "    tokenized = [ word for sent in nltk.sent_tokenize(text) for\\\n",
    "                 word in word_tokenize(sent) ]\n",
    "    stems = [ snowStemmer(t) for t in tokenized ]\n",
    "    stems = tokenized\n",
    "    return stems\n",
    "\n",
    "# Function to reconcatenate tokenized strings \n",
    "def detokenizeText( tokenized ):\n",
    "    return detokenizer.detokenize( tokenized, return_str = True )\n"
   ]
  },
  {
   "cell_type": "markdown",
   "metadata": {},
   "source": [
    "Next, we need to re-organize the data so that we can index speeches based on the presidents' names. Instead of using pandas here, we resort to a dictionary for the sake of storing datetime objects that offer us comparable dates - a feature that will allow us to sort out the dates and compare them. With these datetime objects then, we can group disecrete sets of time periods."
   ]
  },
  {
   "cell_type": "code",
   "execution_count": 18,
   "metadata": {},
   "outputs": [],
   "source": [
    "# This will be a dictionary containing the speeches of specific presidents,\n",
    "# Where keys will map to a list of tuples in the format ( date, text )\n",
    "# Examples will be provided below\n",
    "\n",
    "inaug_database=dict()\n",
    "\n",
    "# Set up the database so that we can organize by president name\n",
    "# If a president name already exists, then add to that list\n",
    "# Otherwise, make a new list for that president\n",
    "for index, row in inaug_dat.iterrows():\n",
    "    name = row.Name\n",
    "    date = row.Date\n",
    "    text = row.Text\n",
    "    if name in inaug_database:\n",
    "        inaug_database[name].append( ( date, convertDate( date ),\\\n",
    "                                      text, cleanText( text ) ) )\n",
    "    else:\n",
    "        inaug_database[name] = [ ( date, convertDate( date ), text,\\\n",
    "                                  cleanText( text ) ) ]"
   ]
  },
  {
   "cell_type": "markdown",
   "metadata": {},
   "source": [
    "Now that this dictionary is set up we can specify certain date ranges to pick from. In this way, we can choose from the data so as to create discrete clusters based on time period. For the cell block below, we will be picking the year range from 1800-1830, 1900-1925, 1941-1950, and 1990 - 2015. The 1800-1830 period is used to pick the oldest speeches, the 1900-1925 speeches were picked because of the World War I era, and 1941-1950 for the World War II era. We want to see if it is possible to differniate between our speeches just based on how historical contexts affects word usage and see the relevant and \"weighty\" words surrounding those inaugural speeches.\n",
    "\n",
    "Clustering will also allow us to see how speeches from different eras may be different/similar from each other.\n",
    "\n",
    "We will be appending the speeches within these year ranges within our speeches[] list."
   ]
  },
  {
   "cell_type": "code",
   "execution_count": 19,
   "metadata": {},
   "outputs": [
    {
     "name": "stdout",
     "output_type": "stream",
     "text": [
      "56525\n"
     ]
    }
   ],
   "source": [
    "# The year ranges we are specifying    \n",
    "yearRanges = [ (1800, 1835), (1925, 1955), (1980, 2015) ]\n",
    "#yearRanges = [ (1700,2018)]\n",
    "\n",
    "tokenizedText = []\n",
    "presidents = []\n",
    "speeches = []\n",
    "years = []\n",
    "wordCount = 0\n",
    "\n",
    "# Find text within valid year ranges\n",
    "for i, t in enumerate( inaug_database ):\n",
    "    entry = inaug_database[ t ]\n",
    "    for i, speech in enumerate( entry ):\n",
    "        \n",
    "        valid = False\n",
    "        year = speech[ 1 ].year\n",
    "    \n",
    "        for r in yearRanges:\n",
    "            \n",
    "            # Check if the year is within a valid range\n",
    "            \n",
    "            if year >= r[ 0 ] and year <= r[ 1 ]:\n",
    "                valid = True\n",
    "                break\n",
    "                \n",
    "        if ( valid ):\n",
    "            processed = processText( speech[ 3 ] ) \n",
    "            presidents.append( t )\n",
    "            speeches.append( speech[ 3 ] )\n",
    "            years.append( year )\n",
    "\n",
    "            tokenizedText.append( processed )\n",
    "            wordCount += len( processed )\n",
    "\n",
    "# Checking how many words we have total\n",
    "print( wordCount )"
   ]
  },
  {
   "cell_type": "markdown",
   "metadata": {},
   "source": [
    "Now that we created a list of speeches within these year ranges, we can begin our analyses. In order to work with cluster, we will create a TFIDF matrix for the speeches. This allows us to create a structure that contains the list of our speeches while containing specific tfidf values for each \"term\". After creating the matrix, we run it thorugh scikitlearn's KMeans clustering method to discover the different clusters among the speeches.\n",
    "\n",
    "[This tutorial](http://brandonrose.org/clustering) allowed us to understand how the clustering worked, as we follow through similar steps."
   ]
  },
  {
   "cell_type": "code",
   "execution_count": 20,
   "metadata": {},
   "outputs": [
    {
     "name": "stderr",
     "output_type": "stream",
     "text": [
      "/anaconda3/lib/python3.7/site-packages/sklearn/feature_extraction/text.py:300: UserWarning: Your stop_words may be inconsistent with your preprocessing. Tokenizing the stop words generated tokens [\"'d\", \"'ll\", \"'re\", \"'s\", \"'ve\", 'could', 'might', 'must', \"n't\", 'need', 'sha', 'wo', 'would'] not in stop_words.\n",
      "  'stop_words.' % sorted(inconsistent))\n"
     ]
    }
   ],
   "source": [
    "# Specify stop words for our vectorizer\n",
    "from nltk.corpus import stopwords\n",
    "from sklearn.cluster import KMeans\n",
    "\n",
    "num_clusters = len( yearRanges ) + 1 # The number of clusters\n",
    "                                     # we plan to make\n",
    "\n",
    "# Create a set of stopwords\n",
    "# We include mr, and, and mrs because these were showing up as\n",
    "# signficant words but shouldn't be\n",
    "stop_words = set( stopwords.words(\"english\") ) | \\\n",
    "                set([\"mr\",\"and\",\"mrs\"])\n",
    "\n",
    "# Initialize vectorizer for tfidf\n",
    "# Specifying max df to 80% and min to 20%\n",
    "vectorizer = TfidfVectorizer( sublinear_tf = True,\n",
    "                        analyzer = 'word',\n",
    "                        max_features = 35000,\n",
    "                        tokenizer = word_tokenize,\n",
    "                        stop_words = stop_words,\n",
    "                        max_df = 0.8, min_df = 0.2 )\n",
    "\n",
    "tfidf_matrix = vectorizer.fit_transform( speeches ).toarray()\n",
    "km = KMeans( n_clusters = num_clusters )\n",
    "clusters = km.fit( tfidf_matrix )"
   ]
  },
  {
   "cell_type": "code",
   "execution_count": 21,
   "metadata": {},
   "outputs": [],
   "source": [
    "from sklearn.externals import joblib\n",
    "\n",
    "joblib.dump(km, 'doc_cluster.pkl')\n",
    "km = joblib.load('doc_cluster.pkl')\n",
    "clusters = km.labels_.tolist()"
   ]
  },
  {
   "cell_type": "markdown",
   "metadata": {},
   "source": [
    "The block above compiles our cluster results based off the speeches and loads them so that we may analyze them to the specific word content.\n",
    "\n",
    "If we want to see the results of the clustering, lets create a dataframe and includes the paramaeters of the speech year, president, and cluster label:"
   ]
  },
  {
   "cell_type": "code",
   "execution_count": 23,
   "metadata": {},
   "outputs": [],
   "source": [
    "speech_data = {'year':years, 'president': presidents, \\\n",
    "               'cluster': clusters}\n",
    "cluster_frame = pd.DataFrame( speech_data, columns = \\\n",
    "                             ['year','president','cluster'] )"
   ]
  },
  {
   "cell_type": "markdown",
   "metadata": {},
   "source": [
    "The cluster results show that there is a difference in the way speeches are written within different eras! With a few exceptions, we can see that speeches can be grouped differently with cluster 0 representing our 1800-1830 time period , cluster 2 representing the 1925-1950 period, cluster 1 representing the 1980-2015 period.\n",
    "\n",
    "We found it interesting how Franklin D. Roosevlet's third term was grouped by itself in cluster 3. If we take into context the year, we realize that this is only a few months after the bombing of Pearl Harbor and U.S.'s entry into World War II. Surely, this could have made a grave difference in the way his speech was written, as all of his other terms were grouped under cluster 2 until then.\n",
    "\n",
    "We can see exactly what kind of words were used for each of these clusters:"
   ]
  },
  {
   "cell_type": "code",
   "execution_count": 24,
   "metadata": {},
   "outputs": [
    {
     "name": "stdout",
     "output_type": "stream",
     "text": [
      "Top 20 terms per cluster:\n",
      "----------\n",
      "Cluster 0:\n",
      "----------\n",
      " america\n",
      " today\n",
      " americans\n",
      " think\n",
      " prayer\n",
      " freedom\n",
      " man\n",
      " hand\n",
      " day\n",
      " president\n",
      " help\n",
      " federal\n",
      " back\n",
      " history\n",
      " new\n",
      " young\n",
      " let\n",
      " done\n",
      " much\n",
      " bless\n",
      "----------\n",
      "Cluster 1:\n",
      "----------\n",
      " public\n",
      " duties\n",
      " union\n",
      " powers\n",
      " foreign\n",
      " general\n",
      " interests\n",
      " without\n",
      " state\n",
      " confidence\n",
      " shall\n",
      " support\n",
      " revenue\n",
      " principles\n",
      " policy\n",
      " best\n",
      " opinion\n",
      " constitution\n",
      " national\n",
      " limits\n",
      "----------\n",
      "Cluster 2:\n",
      "----------\n",
      " economic\n",
      " upon\n",
      " peoples\n",
      " leadership\n",
      " shall\n",
      " new\n",
      " democracy\n",
      " know\n",
      " conditions\n",
      " human\n",
      " common\n",
      " first\n",
      " effective\n",
      " freedom\n",
      " action\n",
      " old\n",
      " faith\n",
      " moral\n",
      " lies\n",
      " national\n",
      "----------\n",
      "Cluster 3:\n",
      "----------\n",
      " americas\n",
      " america\n",
      " today\n",
      " americans\n",
      " work\n",
      " promise\n",
      " children\n",
      " freedom\n",
      " new\n",
      " democracy\n",
      " journey\n",
      " make\n",
      " way\n",
      " build\n",
      " god\n",
      " president\n",
      " century\n",
      " generation\n",
      " schools\n",
      " courage\n"
     ]
    }
   ],
   "source": [
    "top_n = 20 # Print out the top ten terms for each cluster\n",
    "\n",
    "print(\"Top %d terms per cluster:\" %top_n)\n",
    "\n",
    "order_centroids = km.cluster_centers_.argsort()[:, ::-1]\n",
    "terms = vectorizer.get_feature_names()\n",
    "\n",
    "for i in range( num_clusters ):\n",
    "    print(\"----------\")\n",
    "    print(\"Cluster %d:\" % i)\n",
    "    print(\"----------\")\n",
    "    for ind in order_centroids[i, :top_n]:\n",
    "        print(' %s' % terms[ind]),\n",
    "    print"
   ]
  },
  {
   "cell_type": "markdown",
   "metadata": {},
   "source": [
    "# Clustering Interpretation\n",
    "\n",
    "We see that *cluster 0* (1800-1830) relates more to words that describe the government and the people. Especially interesting in this cluster is the word \"union\" which shows up no where else. Union could be refering to many things like the old government under the Articles of Confderation or the generic definition with unions of entities. This cluster also talks about \"foreign\", which is likely refering to relationships with Great Britain. It seems that this cluster aims at creating a sense of country unity. This would be important because the United States is still very new and developing its hold.\n",
    "\n",
    "For *cluster 2* (1925-1955), there are words like \"peoples\", \"national\", and \"common\" that describe a whole country and again refer to unity. But unlike cluster 1, cluster 2 has words that can be seen as describing American ideals like \"spirit\", \"democracy\", and \"purpose\". The word \"industrial\" also appears here, which is quite interesting as well. We also take note of the word \"new\" which is likely showing up here because of Franklin D. Roosevelt's (FDR) \"New Deal\" which was going on in the 1930's.\n",
    "\n",
    "For *cluster 3*, which represents FDR's fourth and last term, we see that these words are quite sentimental and powerful. For example, the words \"remember\", \"truth\", 'fight\" and \"live\" all convey strong feelings. As mentioned before, these words make sense because of the context of World War II and Pearl Harbor.\n",
    "\n",
    "For *cluster 1* (1980-2015), we see a lot describe the country and it current state like \"america\", \"today\", and \"new\". This seems quite similar to *cluster 0* in its sort of calling for unity. An interesting word that popped up here is \"work\", possibly talking about jobs and employment. It seems that a lot of the words are addressed to the audience, like \"citizens\", \"children\", \"bless\", and \"god\"."
   ]
  },
  {
   "cell_type": "markdown",
   "metadata": {},
   "source": [
    "### Metric 1: Total Number of Words\n",
    "Who spoke more, and what does that imply? This metric shows us a very simple, but very important measurement. How much does each person speak in their addresses or debates? This will be used in other analyses, such as word frequency and lexical diversity."
   ]
  },
  {
   "cell_type": "markdown",
   "metadata": {},
   "source": [
    "#### Inaugural Addresses"
   ]
  },
  {
   "cell_type": "code",
   "execution_count": 25,
   "metadata": {},
   "outputs": [
    {
     "data": {
      "text/plain": [
       "count      58.000000\n",
       "mean     2341.189655\n",
       "std      1391.688757\n",
       "min       135.000000\n",
       "25%      1438.000000\n",
       "50%      2072.500000\n",
       "75%      2899.250000\n",
       "max      8467.000000\n",
       "Name: Total Words Spoken, dtype: float64"
      ]
     },
     "execution_count": 25,
     "metadata": {},
     "output_type": "execute_result"
    }
   ],
   "source": [
    "inaug_dat['Word Tokens'] = inaug_word_tokens\n",
    "total_words = []\n",
    "\n",
    "for i in inaug_dat.index:\n",
    "    total_words.append(len(inaug_word_tokens[i]))\n",
    "    \n",
    "inaug_dat['Total Words Spoken'] = total_words\n",
    "inaug_dat['Total Words Spoken'].describe()"
   ]
  },
  {
   "cell_type": "markdown",
   "metadata": {},
   "source": [
    "President William Harrison spoke the highest number of words at 8467 words.\n",
    "President George Washington spoke the lowest number of words at 135 words."
   ]
  },
  {
   "cell_type": "code",
   "execution_count": 26,
   "metadata": {},
   "outputs": [
    {
     "data": {
      "image/png": "[encoded data removed]",
      "text/plain": [
       "<Figure size 1296x288 with 1 Axes>"
      ]
     },
     "metadata": {
      "needs_background": "light"
     },
     "output_type": "display_data"
    }
   ],
   "source": [
    "plt.figure(figsize=(18,4))\n",
    "ax = sns.barplot(x = inaug_dat['Term'], \\\n",
    "                 y = inaug_dat['Total Words Spoken'],errwidth=0)\n",
    "ax.set_title('Total Words Spoken for Every Presidential Term')\n",
    "# plt.xticks(rotation=-45)\n",
    "sns.despine()\n",
    "plt.show()"
   ]
  },
  {
   "cell_type": "code",
   "execution_count": 27,
   "metadata": {},
   "outputs": [
    {
     "name": "stderr",
     "output_type": "stream",
     "text": [
      "/anaconda3/lib/python3.7/site-packages/scipy/stats/stats.py:1713: FutureWarning: Using a non-tuple sequence for multidimensional indexing is deprecated; use `arr[tuple(seq)]` instead of `arr[seq]`. In the future this will be interpreted as an array index, `arr[np.array(seq)]`, which will result either in an error or a different result.\n",
      "  return np.add.reduce(sorted[indexer] * weights, axis=axis) / sumval\n"
     ]
    },
    {
     "data": {
      "image/png": "[encoded data removed]",
      "text/plain": [
       "<Figure size 432x288 with 1 Axes>"
      ]
     },
     "metadata": {
      "needs_background": "light"
     },
     "output_type": "display_data"
    }
   ],
   "source": [
    "ax = sns.distplot(inaug_dat['Total Words Spoken'],\\\n",
    "                  kde=True, vertical=False, bins=58)\n",
    "sns.despine()\n",
    "plt.show()"
   ]
  },
  {
   "cell_type": "markdown",
   "metadata": {},
   "source": [
    "#### Debates"
   ]
  },
  {
   "cell_type": "code",
   "execution_count": 28,
   "metadata": {},
   "outputs": [
    {
     "name": "stdout",
     "output_type": "stream",
     "text": [
      "Trump spoke 23650 words\n",
      "Clinton spoke 20154 words\n"
     ]
    }
   ],
   "source": [
    "# Who spoke more?\n",
    "print(\"Trump spoke\", len(TrumpTokens), \"words\")\n",
    "print(\"Clinton spoke\", len(ClintonTokens), \"words\")"
   ]
  },
  {
   "cell_type": "code",
   "execution_count": 29,
   "metadata": {},
   "outputs": [
    {
     "data": {
      "text/plain": [
       "Text(0.5, 1.0, 'Debates: Total Number of Words per Candidate')"
      ]
     },
     "execution_count": 29,
     "metadata": {},
     "output_type": "execute_result"
    },
    {
     "data": {
      "image/png": "[encoded data removed]",
      "text/plain": [
       "<Figure size 432x288 with 1 Axes>"
      ]
     },
     "metadata": {
      "needs_background": "light"
     },
     "output_type": "display_data"
    }
   ],
   "source": [
    "tw_data = [[\"Trump\", len(TrumpTokens)], [\"Clinton\",\\\n",
    "                                         len(ClintonTokens)]] \n",
    "total_words = pd.DataFrame(tw_data, columns = [\"Candidate\",\\\n",
    "                                               \"Num_words\"])\n",
    "total_words_plot = sns.catplot(x=\"Candidate\", y=\"Num_words\",\\\n",
    "                    hue=\"Candidate\", data=total_words,\\\n",
    "                    height=6, kind=\"bar\",\\\n",
    "                    palette=(sns.color_palette(\"RdBu\", n_colors=2)))\n",
    "\n",
    "total_words_plot.fig.set_size_inches(6,4)\n",
    "\n",
    "plt.xlabel(\"Candidate\")\n",
    "plt.ylabel(\"Number of Total Words Said\")\n",
    "plt.title(\"Debates: Total Number of Words per Candidate\")\n",
    "#print(tw_data)"
   ]
  },
  {
   "cell_type": "markdown",
   "metadata": {},
   "source": [
    "#### Comparison\n",
    "\n",
    "Since inaugural addresses and debates are fundamentally different in both purpose and function, they will not be compared by this metric. There is nothing of significant interest in looking purely at total word count across different types of speeches. This is due to the fact that contexts -- including but not limited to moderator time limits and broadcasting limitations -- differ greatly between inaugural addresses and debates."
   ]
  },
  {
   "cell_type": "markdown",
   "metadata": {},
   "source": [
    "### Metric 2: Most Common Words and Frequencies"
   ]
  },
  {
   "cell_type": "markdown",
   "metadata": {},
   "source": [
    "The most common words can be used to determine the focus of a candidates speech -- or when analyzed across speeches it can be used to loosely characterize a candidate's personality or values. In inaugural addresses, we used clustering to generalize cultural values by era (such as the difference between the industrial period and the modern era). This metric will be used to aid in other metrics -- such as the narcissism index and sentiment analysis."
   ]
  },
  {
   "cell_type": "markdown",
   "metadata": {},
   "source": [
    "#### Inaugural Addresses"
   ]
  },
  {
   "cell_type": "code",
   "execution_count": 77,
   "metadata": {},
   "outputs": [
    {
     "name": "stdout",
     "output_type": "stream",
     "text": [
      "These are our year ranges [(1770, 1820), (1820, 1870), (1870, 1920), (1920, 1970), (1970, 2020)]\n",
      "1770 - 1820\n",
      "=============\n",
      "government : 65\n",
      "may : 51\n",
      "public : 46\n",
      "people : 45\n",
      "states : 43\n",
      "citizens : 41\n",
      "every : 41\n",
      "country : 40\n",
      "us : 37\n",
      "nations : 31\n",
      "=============\n",
      "1820 - 1870\n",
      "=============\n",
      "government : 200\n",
      "states : 155\n",
      "people : 147\n",
      "may : 132\n",
      "upon : 131\n",
      "union : 122\n",
      "constitution : 116\n",
      "shall : 110\n",
      "power : 108\n",
      "great : 104\n",
      "=============\n",
      "1870 - 1920\n",
      "=============\n",
      "government : 160\n",
      "people : 157\n",
      "upon : 145\n",
      "shall : 95\n",
      "great : 92\n",
      "states : 88\n",
      "us : 77\n",
      "must : 73\n",
      "may : 72\n",
      "public : 70\n",
      "=============\n",
      "1920 - 1970\n",
      "=============\n",
      "world : 143\n",
      "people : 118\n",
      "must : 112\n",
      "us : 102\n",
      "peace : 98\n",
      "government : 90\n",
      "nations : 82\n",
      "nation : 76\n",
      "new : 72\n",
      "upon : 69\n",
      "=============\n",
      "1970 - 2020\n",
      "=============\n",
      "us : 198\n",
      "new : 117\n",
      "america : 110\n",
      "world : 108\n",
      "must : 108\n",
      "people : 100\n",
      "nation : 97\n",
      "time : 79\n",
      "freedom : 79\n",
      "government : 79\n",
      "=============\n"
     ]
    }
   ],
   "source": [
    "yearRanges = []\n",
    "speeches = []\n",
    "dists = []\n",
    "tokenized = []\n",
    "\n",
    "for i in range( 1770, 2018, 50 ):\n",
    "    yearRanges.append( (i, i+50) )\n",
    "    speeches.append('')\n",
    "\n",
    "print( \"These are our year ranges\", yearRanges )\n",
    "\n",
    "for i, t in enumerate( inaug_database ):\n",
    "    entry = inaug_database[ t ]\n",
    "    for i, speech in enumerate( entry ):\n",
    "        valid = False\n",
    "        year = speech[ 1 ].year\n",
    "        for index,r in enumerate(yearRanges):\n",
    "            # Check if the year is within a valid range\n",
    "            if year >= r[ 0 ] and year <= r[ 1 ]:\n",
    "                valid = True\n",
    "                break\n",
    "        if ( valid ):\n",
    "                speeches[index] = speeches[index] + speech[3]\n",
    "\n",
    "# Append tokenized words to the tokenized list\n",
    "for i in range( 0, len( speeches ) ):\n",
    "    t = word_tokenize( speeches[i] )\n",
    "    actual = []\n",
    "    for word in t:\n",
    "        if word not in stop_words:\n",
    "            actual.append( word )\n",
    "    tokenized.append( actual )\n",
    "    \n",
    "for i in range( 0, len( tokenized ) ):\n",
    "    dists.append( FreqDist( tokenized[i] ) )\n",
    "    \n",
    "def compareItems(a):\n",
    "    return a[1]\n",
    "\n",
    "for index in range(0, len( dists ) ):\n",
    "    print( yearRanges[index][0], '-', yearRanges[index][1] )\n",
    "    print('=============')\n",
    "    items = list( dists[ index ].items() )\n",
    "    items = sorted( items, key=compareItems, reverse=True )\n",
    "    top10 =  items[0:10]\n",
    "    for i in range(0, 10):\n",
    "        print( top10[i][0],\":\", top10[i][1])\n",
    "    print('=============')"
   ]
  },
  {
   "cell_type": "markdown",
   "metadata": {},
   "source": [
    "In the first three defined year ranges, 'government' is the most frequent word. However, in the fourth year range(1920-1970), the most frequent word is 'world'. The term 'government' becomes the sixth most frequent word. For the range 1970–2020, the most frequent word is'us', and the term 'government' falls to number ten on the list.\n",
    "\n",
    "The shift from a government-centered speech to a speech focused more on a bigger pictures suggests a shift within the presidential outlook."
   ]
  },
  {
   "cell_type": "markdown",
   "metadata": {},
   "source": [
    "#### Debates"
   ]
  },
  {
   "cell_type": "code",
   "execution_count": 78,
   "metadata": {},
   "outputs": [],
   "source": [
    "# What words were spoken the most by each candidate?\n",
    "\n",
    "clintonFDist = FreqDist(ClintonNoStopTokens)\n",
    "ClintonFrequency = pd.DataFrame(list(clintonFDist.items()),\\\n",
    "                                columns = [\"Word\",\"Frequency\"])\n",
    "ClintonFrequency = ClintonFrequency.sort_values(by='Frequency',\\\n",
    "                                                ascending=False)\n",
    "ClintonFrequency = ClintonFrequency.reset_index(drop=True)\n",
    "\n",
    "trumpFDist = FreqDist(TrumpNoStopTokens)\n",
    "TrumpFrequency = pd.DataFrame(list(trumpFDist.items()), columns =\\\n",
    "                              [\"Word\",\"Frequency\"])\n",
    "TrumpFrequency = TrumpFrequency.sort_values(by='Frequency',\\\n",
    "                                            ascending=False)\n",
    "TrumpFrequency = TrumpFrequency.reset_index(drop=True)"
   ]
  },
  {
   "cell_type": "code",
   "execution_count": 31,
   "metadata": {},
   "outputs": [
    {
     "data": {
      "image/png": "[encoded data removed]",
      "text/plain": [
       "<Figure size 432x288 with 1 Axes>"
      ]
     },
     "metadata": {
      "needs_background": "light"
     },
     "output_type": "display_data"
    }
   ],
   "source": [
    "Clinton_freq = ClintonFrequency.head(10)\n",
    "C_freq_num = Clinton_freq[\"Frequency\"]\n",
    "C_freq_titles = Clinton_freq[\"Word\"]\n",
    "C_freq_graph = plt.bar(C_freq_titles, height = C_freq_num,\\\n",
    "                       color = \"darkblue\")\n",
    "\n",
    "plt.xlabel(\"Most Frequent Words\")\n",
    "plt.ylabel(\"Number of Times Said\")\n",
    "plt.title(\"Clinton Debate Word Frequency\")\n",
    "\n",
    "ax = plt.gca()\n",
    "ax.spines['top'].set_visible(False)\n",
    "ax.spines['right'].set_visible(False)\n",
    "\n",
    "plt.show()"
   ]
  },
  {
   "cell_type": "code",
   "execution_count": 32,
   "metadata": {},
   "outputs": [
    {
     "data": {
      "image/png": "[encoded data removed]",
      "text/plain": [
       "<Figure size 432x288 with 1 Axes>"
      ]
     },
     "metadata": {
      "needs_background": "light"
     },
     "output_type": "display_data"
    }
   ],
   "source": [
    "Trump_freq = TrumpFrequency.head(10)\n",
    "T_freq_num = Trump_freq[\"Frequency\"]\n",
    "T_freq_titles = Trump_freq[\"Word\"]\n",
    "T_freq_graph = plt.bar(T_freq_titles, height = T_freq_num,\\\n",
    "                       color = \"darkred\")\n",
    "\n",
    "plt.xlabel(\"Most Frequent Words\")\n",
    "plt.ylabel(\"Number of Times Said\")\n",
    "plt.title(\"Trump Debate Word Frequency\")\n",
    "\n",
    "ax = plt.gca()\n",
    "ax.spines['top'].set_visible(False)\n",
    "ax.spines['right'].set_visible(False)\n",
    "\n",
    "plt.show()"
   ]
  },
  {
   "cell_type": "code",
   "execution_count": 33,
   "metadata": {},
   "outputs": [],
   "source": [
    "TrumpFrequency[\"candidate\"] = \"Trump\"\n",
    "ClintonFrequency[\"candidate\"] = \"Clinton\"\n",
    "C_comb_freq = ClintonFrequency.head(10)\n",
    "T_comb_freq = TrumpFrequency.head(10)\n",
    "frames = [T_comb_freq, C_comb_freq]\n",
    "combined_freq = pd.concat(frames)"
   ]
  },
  {
   "cell_type": "code",
   "execution_count": 34,
   "metadata": {},
   "outputs": [
    {
     "data": {
      "image/png": "[encoded data removed]",
      "text/plain": [
       "<Figure size 1872x576 with 1 Axes>"
      ]
     },
     "metadata": {
      "needs_background": "light"
     },
     "output_type": "display_data"
    }
   ],
   "source": [
    "a = sns.catplot(x=\"Word\", y=\"Frequency\", hue=\"candidate\",\\\n",
    "                data=combined_freq, kind=\"bar\", palette=\"RdBu\")\n",
    "a.fig.set_size_inches(26,8)"
   ]
  },
  {
   "cell_type": "markdown",
   "metadata": {},
   "source": [
    "Trump addresses himself more and Clinton addresses trump more."
   ]
  },
  {
   "cell_type": "markdown",
   "metadata": {},
   "source": [
    "### Metric 3: Average Word Length\n",
    "Average word length is a simple metric -- the number of letters in all the words of a set, divided by the number of words. However, in discussions of cultural values, word length is *perceived* to be correlated with the speaker's intelligence. Word length may also correlate with target audience -- in that longer word length corresponds to a more educated target audience, while a shorter word length corresponds to a less educated (read: more widespread) audience. Therefore, analyzing and comparing word length may show us information about the candidate -- OR it may show us information about the demographics of their voting base."
   ]
  },
  {
   "cell_type": "code",
   "execution_count": 36,
   "metadata": {},
   "outputs": [],
   "source": [
    "# Define function averageWordLen\n",
    "# Pass in list of word tokens and return the calculated \n",
    "# average word length of all the word tokens\n",
    "\n",
    "def averageWordLen(words):\n",
    "    return sum(len(word) for word in words)/len(words)\n",
    "\n",
    "# Loop through all inagural address speeches and calculate\n",
    "# the average word length using the averageWordLen function\n",
    "\n",
    "i = 0\n",
    "avgWordLenList = []\n",
    "\n",
    "while (i<58):\n",
    "    avgWordLenList.append(averageWordLen(inaug_word_tokens[i]))\n",
    "    i = i + 1\n",
    "\n",
    "# Assign the average word length to a new column in the inaug_dat dataframe\n",
    "inaug_dat['Average Word Length'] = avgWordLenList"
   ]
  },
  {
   "cell_type": "markdown",
   "metadata": {},
   "source": [
    "#### Inaugural Addresses"
   ]
  },
  {
   "cell_type": "code",
   "execution_count": 37,
   "metadata": {},
   "outputs": [
    {
     "data": {
      "text/plain": [
       "count    58.000000\n",
       "mean      4.692453\n",
       "std       0.218412\n",
       "min       4.196834\n",
       "25%       4.504316\n",
       "50%       4.741030\n",
       "75%       4.870498\n",
       "max       5.027120\n",
       "Name: Average Word Length, dtype: float64"
      ]
     },
     "execution_count": 37,
     "metadata": {},
     "output_type": "execute_result"
    }
   ],
   "source": [
    "# Look at the minimum and maximum average word lengths\n",
    "inaug_dat['Average Word Length'].describe()"
   ]
  },
  {
   "cell_type": "markdown",
   "metadata": {},
   "source": [
    "**_Minimum and Maximum Word Length_**\n",
    "\n",
    "According to average word length of inaugural addresses, Lyndon Baines Johnson having the lowest average word length at 4.196834. Grover Cleveland has the highest average word length at 5.027120.\n",
    "\n",
    "##### Context around Lyndon B. Johnson\n",
    "The inauguration of Lyndon B. Johnson was the same day that President John F. Kennedy was assassinated. \n",
    "\n",
    "##### Context around Grover Cleveland\n",
    "The Panic of 1893 was an unfavorable start to Cleveland's term. Ten days before his inauguration, the Philadelphia and Reading Railroad went bankrupt. This was the first sign of the economic crisis that would result in a depression. We believe that Cleveland incorporated longer words into his speech in the effort to sound and appear intelligent rather than \"common\" in order to ease the public's attitude amidst the worsening economony. Longer words, even if they didn't understand the meaning, might have provided the public comfort that they were in the hands of an intelligent president.\n",
    "\n",
    "###### Resources:\n",
    "\n",
    "https://resources.saylor.org/wwwresources/archived/site/wp-content/uploads/2011/08/HIST312-10.1.2-Panic-of-1893.pdf"
   ]
  },
  {
   "cell_type": "code",
   "execution_count": 38,
   "metadata": {},
   "outputs": [
    {
     "data": {
      "image/png": "[encoded data removed]",
      "text/plain": [
       "<Figure size 432x288 with 1 Axes>"
      ]
     },
     "metadata": {
      "needs_background": "light"
     },
     "output_type": "display_data"
    }
   ],
   "source": [
    "# Plot the distribution of the average word lengths\n",
    "\n",
    "ax = sns.distplot(inaug_dat['Average Word Length'], kde=True,\\\n",
    "                  vertical=False, bins=58)\n",
    "sns.despine()\n",
    "plt.show()"
   ]
  },
  {
   "cell_type": "markdown",
   "metadata": {},
   "source": [
    "### Distribution of the Inaugural Address Average Word Length\n"
   ]
  },
  {
   "cell_type": "code",
   "execution_count": 39,
   "metadata": {},
   "outputs": [
    {
     "data": {
      "image/png": "[encoded data removed]",
      "text/plain": [
       "<Figure size 1152x288 with 1 Axes>"
      ]
     },
     "metadata": {
      "needs_background": "light"
     },
     "output_type": "display_data"
    }
   ],
   "source": [
    "plt.figure(figsize=(16,4))\n",
    "ax = sns.barplot(x=inaug_dat['Term'],\\\n",
    "                 y=inaug_dat['Average Word Length'], errwidth=0)\n",
    "ax.set(ylim=(3.75, 5.25))\n",
    "sns.despine()\n",
    "plt.show()"
   ]
  },
  {
   "cell_type": "markdown",
   "metadata": {},
   "source": [
    "#### Debates"
   ]
  },
  {
   "cell_type": "code",
   "execution_count": 40,
   "metadata": {},
   "outputs": [
    {
     "name": "stdout",
     "output_type": "stream",
     "text": [
      "5.603556910569106 5.924188129899216\n"
     ]
    },
    {
     "data": {
      "text/plain": [
       "Text(0.5, 1.0, 'Debates: Average Word Length of Candidates')"
      ]
     },
     "execution_count": 40,
     "metadata": {},
     "output_type": "execute_result"
    },
    {
     "data": {
      "image/png": "[encoded data removed]",
      "text/plain": [
       "<Figure size 432x288 with 1 Axes>"
      ]
     },
     "metadata": {
      "needs_background": "light"
     },
     "output_type": "display_data"
    }
   ],
   "source": [
    "print(averageWordLen(TrumpNoStopTokens), averageWordLen(ClintonNoStopTokens))\n",
    "\n",
    "d_wl_data = [[\"Trump\", averageWordLen(TrumpNoStopTokens)],\\\n",
    "             [\"Clinton\", averageWordLen(ClintonNoStopTokens)]] \n",
    "d_word_length = pd.DataFrame(d_wl_data, columns = [\"Candidate\",\\\n",
    "                                                   \"Avg_Word_Len\"])\n",
    "d_wordl_plot = sns.catplot(x = \"Candidate\", y = \"Avg_Word_Len\",\\\n",
    "                           hue = \"Candidate\", data = d_word_length,\\\n",
    "                height = 6, kind = \"bar\", palette = \\\n",
    "                           (sns.color_palette(\"RdBu\", n_colors = 2)))\n",
    "\n",
    "d_wordl_plot.fig.set_size_inches(6,4)\n",
    "\n",
    "plt.xlabel(\"Candidate\")\n",
    "plt.ylabel(\"Average Word Length\")\n",
    "plt.title(\"Debates: Average Word Length of Candidates\")"
   ]
  },
  {
   "cell_type": "markdown",
   "metadata": {},
   "source": [
    "#### P-Value Comparative Evaluation"
   ]
  },
  {
   "cell_type": "code",
   "execution_count": 41,
   "metadata": {},
   "outputs": [
    {
     "name": "stdout",
     "output_type": "stream",
     "text": [
      "Trump P-Value = 1.5129917465955484e-05\n",
      "Clinton P-Value = 8.526432891033852e-09\n"
     ]
    }
   ],
   "source": [
    "def find_p_value(a, b, c):\n",
    "    z = (a-b)/(c.std())\n",
    "    pval = stats.norm.sf(z)\n",
    "    return pval\n",
    "\n",
    "# a is the sample mean (such as trump's mean word length)\n",
    "# b is the population mean (such as the mean of inaugural word lengths)\n",
    "# c is the population data (inaugural word lengths as a whole)\n",
    "\n",
    "inaug_wl = inaug_dat['Average Word Length']\n",
    "avg_wl_trump = averageWordLen(TrumpNoStopTokens)\n",
    "avg_wl_clint = averageWordLen(ClintonNoStopTokens)\n",
    "\n",
    "p_val_wl_trump = find_p_value(avg_wl_trump, mean(inaug_wl), inaug_wl)\n",
    "print(\"Trump P-Value =\",p_val_wl_trump)\n",
    "\n",
    "p_val_wl_clint = find_p_value(avg_wl_clint, mean(inaug_wl), inaug_wl)\n",
    "print(\"Clinton P-Value =\", p_val_wl_clint)\n"
   ]
  },
  {
   "cell_type": "markdown",
   "metadata": {},
   "source": [
    "### Metric 4: Narcissism Index\n",
    "Here, we set up defined statements and functions to outline was \"narcissism\" means in a data science context. This was heavily guided by Reference #7 (see above) on narcissism analysis. Narcissism is the measurement of one's self-referential language, which reflects how \"self-centered\" they are. In politics, referencing oneself is unavoidable -- a key component of a campaign or speech is the discussion of one's own policies or goals. However, recent discussions of Donald Trump suggest that he is unusually narcissistic. Our analysis attempts to explore this possibility and verify it in comparison to his opponent Hillary Clinton, as well as past presidents."
   ]
  },
  {
   "cell_type": "code",
   "execution_count": 42,
   "metadata": {},
   "outputs": [],
   "source": [
    "# Set up the word lists that will be used to analyze the narcissism \n",
    "# index for speeches.\n",
    "\n",
    "NARWORDS = [\"i\", \"im\", \"mine\", \"me\", \"my\", \"myself\"]\n",
    "IWORDS = [\"you\", \"we\", \"us\", \"our\", \"ours\", \"your\", \"youre\", \"yours\"]\n",
    "CWORDS = [\"america\", \"us\", \"country\", \"home\", \"american\", \"nation\"]\n",
    "\n",
    "# Count the frequency of words in tokens\n",
    "def contFreq(Tokens, Words):\n",
    "    lis = []\n",
    "    for w in Tokens:\n",
    "        if w.lower() in Words:\n",
    "            lis.append(w)\n",
    "    return (len(lis)/len(Tokens))"
   ]
  },
  {
   "cell_type": "markdown",
   "metadata": {},
   "source": [
    "### Inaugural Addresses"
   ]
  },
  {
   "cell_type": "code",
   "execution_count": 43,
   "metadata": {},
   "outputs": [
    {
     "data": {
      "text/plain": [
       "count    58.000000\n",
       "mean      0.013203\n",
       "std       0.011267\n",
       "min       0.000754\n",
       "25%       0.005679\n",
       "50%       0.010325\n",
       "75%       0.016405\n",
       "max       0.066667\n",
       "Name: Narcissism Index, dtype: float64"
      ]
     },
     "execution_count": 43,
     "metadata": {},
     "output_type": "execute_result"
    }
   ],
   "source": [
    "Narcissism_Index = []\n",
    "\n",
    "for i in inaug_dat.index:\n",
    "    Narcissism_Index.append(contFreq(inaug_word_tokens[i], \\\n",
    "                                     NARWORDS))\n",
    "    \n",
    "inaug_dat['Narcissism Index'] = Narcissism_Index\n",
    "inaug_dat['Narcissism Index'].describe()"
   ]
  },
  {
   "cell_type": "markdown",
   "metadata": {},
   "source": [
    "George Washington in his second inaugural address expresses the highest narcissism index at 0.066667. \n",
    "Franklin D. Roosevelt in his third inaugural address expresses the lowest narcissim index at 0.000762."
   ]
  },
  {
   "cell_type": "code",
   "execution_count": 44,
   "metadata": {},
   "outputs": [
    {
     "data": {
      "image/png": "[encoded data removed]",
      "text/plain": [
       "<Figure size 1152x288 with 1 Axes>"
      ]
     },
     "metadata": {
      "needs_background": "light"
     },
     "output_type": "display_data"
    }
   ],
   "source": [
    "plt.figure(figsize=(16,4))\n",
    "ax = sns.barplot(x=inaug_dat['Term'], \\\n",
    "                 y=inaug_dat['Narcissism Index'], errwidth=0)\n",
    "#ax.set(ylim=(0, 0.07))\n",
    "sns.despine()\n",
    "plt.show()"
   ]
  },
  {
   "cell_type": "code",
   "execution_count": 45,
   "metadata": {},
   "outputs": [
    {
     "data": {
      "text/html": [
       "<div>\n",
       "<style scoped>\n",
       "    .dataframe tbody tr th:only-of-type {\n",
       "        vertical-align: middle;\n",
       "    }\n",
       "\n",
       "    .dataframe tbody tr th {\n",
       "        vertical-align: top;\n",
       "    }\n",
       "\n",
       "    .dataframe thead th {\n",
       "        text-align: right;\n",
       "    }\n",
       "</style>\n",
       "<table border=\"1\" class=\"dataframe\">\n",
       "  <thead>\n",
       "    <tr style=\"text-align: right;\">\n",
       "      <th></th>\n",
       "      <th>Term</th>\n",
       "      <th>Total Words Spoken</th>\n",
       "      <th>Average Word Length</th>\n",
       "      <th>Narcissism Index</th>\n",
       "    </tr>\n",
       "  </thead>\n",
       "  <tbody>\n",
       "    <tr>\n",
       "      <th>Term</th>\n",
       "      <td>1.000000</td>\n",
       "      <td>-0.133553</td>\n",
       "      <td>-0.656596</td>\n",
       "      <td>-0.536195</td>\n",
       "    </tr>\n",
       "    <tr>\n",
       "      <th>Total Words Spoken</th>\n",
       "      <td>-0.133553</td>\n",
       "      <td>1.000000</td>\n",
       "      <td>0.332426</td>\n",
       "      <td>-0.260555</td>\n",
       "    </tr>\n",
       "    <tr>\n",
       "      <th>Average Word Length</th>\n",
       "      <td>-0.656596</td>\n",
       "      <td>0.332426</td>\n",
       "      <td>1.000000</td>\n",
       "      <td>0.258436</td>\n",
       "    </tr>\n",
       "    <tr>\n",
       "      <th>Narcissism Index</th>\n",
       "      <td>-0.536195</td>\n",
       "      <td>-0.260555</td>\n",
       "      <td>0.258436</td>\n",
       "      <td>1.000000</td>\n",
       "    </tr>\n",
       "  </tbody>\n",
       "</table>\n",
       "</div>"
      ],
      "text/plain": [
       "                         Term  Total Words Spoken  Average Word Length  \\\n",
       "Term                 1.000000           -0.133553            -0.656596   \n",
       "Total Words Spoken  -0.133553            1.000000             0.332426   \n",
       "Average Word Length -0.656596            0.332426             1.000000   \n",
       "Narcissism Index    -0.536195           -0.260555             0.258436   \n",
       "\n",
       "                     Narcissism Index  \n",
       "Term                        -0.536195  \n",
       "Total Words Spoken          -0.260555  \n",
       "Average Word Length          0.258436  \n",
       "Narcissism Index             1.000000  "
      ]
     },
     "execution_count": 45,
     "metadata": {},
     "output_type": "execute_result"
    }
   ],
   "source": [
    "inaug_dat.corr()"
   ]
  },
  {
   "cell_type": "code",
   "execution_count": 80,
   "metadata": {},
   "outputs": [
    {
     "data": {
      "image/png": "[encoded data removed]",
      "text/plain": [
       "<Figure size 432x288 with 1 Axes>"
      ]
     },
     "metadata": {
      "needs_background": "light"
     },
     "output_type": "display_data"
    }
   ],
   "source": [
    "ax = sns.lineplot(x=inaug_dat['Term'], y=inaug_dat['Average Word Length'])\n",
    "sns.despine()"
   ]
  },
  {
   "cell_type": "markdown",
   "metadata": {},
   "source": [
    "### Debate"
   ]
  },
  {
   "cell_type": "code",
   "execution_count": 46,
   "metadata": {},
   "outputs": [
    {
     "name": "stdout",
     "output_type": "stream",
     "text": [
      "Trump Narcissism  0.03543340380549683\n",
      "Clinton Narcissism  0.03304554927061625\n",
      "Trump IWORDS  0.05281183932346723\n",
      "Clinton IWORDS  0.044556911779299394\n",
      "Trump CWORDS  0.007822410147991543\n",
      "Clinton CWORDS  0.010022824253249974\n"
     ]
    }
   ],
   "source": [
    "lowerTrumpTokens = [x.lower() for x in TrumpTokens]\n",
    "lowerClintonTokens = [x.lower() for x in ClintonTokens]\n",
    "\n",
    "print(\"Trump Narcissism \", contFreq(lowerTrumpTokens, NARWORDS))\n",
    "T_nar = contFreq(lowerTrumpTokens, NARWORDS)\n",
    "print(\"Clinton Narcissism \", contFreq(lowerClintonTokens, NARWORDS))\n",
    "C_nar = contFreq(lowerClintonTokens, NARWORDS)\n",
    "\n",
    "print(\"Trump IWORDS \", contFreq(lowerTrumpTokens, IWORDS))\n",
    "T_iword = contFreq(lowerTrumpTokens, IWORDS)\n",
    "print(\"Clinton IWORDS \", contFreq(lowerClintonTokens, IWORDS))\n",
    "C_iword = contFreq(lowerClintonTokens, IWORDS)\n",
    "\n",
    "print(\"Trump CWORDS \", contFreq(lowerTrumpTokens, CWORDS))\n",
    "T_cword = contFreq(lowerTrumpTokens, CWORDS)\n",
    "print(\"Clinton CWORDS \", contFreq(lowerClintonTokens, CWORDS))\n",
    "C_cword = contFreq(lowerTrumpTokens, CWORDS)"
   ]
  },
  {
   "cell_type": "code",
   "execution_count": 47,
   "metadata": {},
   "outputs": [
    {
     "data": {
      "text/plain": [
       "Text(0.5, 1.0, 'Debates: Country-Oriented Words of Candidate')"
      ]
     },
     "execution_count": 47,
     "metadata": {},
     "output_type": "execute_result"
    },
    {
     "data": {
      "image/png": "[encoded data removed]",
      "text/plain": [
       "<Figure size 432x432 with 1 Axes>"
      ]
     },
     "metadata": {
      "needs_background": "light"
     },
     "output_type": "display_data"
    },
    {
     "data": {
      "image/png": "[encoded data removed]",
      "text/plain": [
       "<Figure size 432x432 with 1 Axes>"
      ]
     },
     "metadata": {
      "needs_background": "light"
     },
     "output_type": "display_data"
    },
    {
     "data": {
      "image/png": "[encoded data removed]",
      "text/plain": [
       "<Figure size 432x432 with 1 Axes>"
      ]
     },
     "metadata": {
      "needs_background": "light"
     },
     "output_type": "display_data"
    }
   ],
   "source": [
    "# Narcissism\n",
    "d_nar_data = [[\"Trump\", T_nar], [\"Clinton\", C_nar]] \n",
    "d_narcissism = pd.DataFrame(d_nar_data,\\\n",
    "                            columns = [\"Candidate\", \"Narcissism\"])\n",
    "lex_diversity_plot = sns.catplot(x=\"Candidate\", y=\"Narcissism\",\\\n",
    "                                 hue=\"Candidate\", data = d_narcissism,\n",
    "                height=6, kind=\"bar\", palette=\\\n",
    "                                 (sns.color_palette(\"RdBu\", n_colors=2)))\n",
    "\n",
    "plt.xlabel(\"Candidate\")\n",
    "plt.ylabel(\"Narcissism Score\")\n",
    "plt.title(\"Debates: Narcissism of Candidate\")\n",
    "\n",
    "# Inclusivity\n",
    "d_iword_data = [[\"Trump\", T_iword], [\"Clinton\", C_iword]] \n",
    "d_iwords = pd.DataFrame(d_iword_data, columns =\\\n",
    "                        [\"Candidate\", \"IWords\"])\n",
    "d_iword_plot = sns.catplot(x=\"Candidate\", y=\"IWords\",\\\n",
    "                           hue=\"Candidate\", data = d_iwords,\n",
    "                height=6, kind=\"bar\",\\\n",
    "                           palette=(sns.color_palette(\"RdBu\", n_colors=2)))\n",
    "\n",
    "plt.xlabel(\"Candidate\")\n",
    "plt.ylabel(\"Inclusive Word Score\")\n",
    "plt.title(\"Debates: Inclusive Words of Candidate\")\n",
    "\n",
    "# Country-Oriented\n",
    "d_cword_data = [[\"Trump\", T_cword], [\"Clinton\", C_cword]] \n",
    "d_cwords = pd.DataFrame(d_cword_data, columns =\\\n",
    "                        [\"Candidate\", \"CWords\"])\n",
    "lex_diversity_plot = \\\n",
    "sns.catplot(x=\"Candidate\",\\\n",
    "            y=\"CWords\", hue=\"Candidate\", data = d_cwords,\\\n",
    "                height=6, kind=\"bar\", \\\n",
    "            palette=(sns.color_palette(\"RdBu\", n_colors=2)))\n",
    "\n",
    "plt.xlabel(\"Candidate\")\n",
    "plt.ylabel(\"Country-Oriented Word Score\")\n",
    "plt.title(\"Debates: Country-Oriented Words of Candidate\")"
   ]
  },
  {
   "cell_type": "markdown",
   "metadata": {},
   "source": [
    "#### Comparison"
   ]
  },
  {
   "cell_type": "code",
   "execution_count": 48,
   "metadata": {},
   "outputs": [
    {
     "name": "stdout",
     "output_type": "stream",
     "text": [
      "Trump p-Value = 0.02424753094146427\n",
      "Clinton p-Value = 0.03911307759613424\n"
     ]
    }
   ],
   "source": [
    "inaug_nar_set = inaug_dat['Narcissism Index']\n",
    "\n",
    "nar_test_trump = find_p_value(T_nar, mean(inaug_nar_set), \\\n",
    "                              inaug_nar_set)\n",
    "print(\"Trump p-Value =\",nar_test_trump)\n",
    "\n",
    "nar_test_clint = find_p_value(C_nar, mean(inaug_nar_set), \\\n",
    "                              inaug_nar_set)\n",
    "print(\"Clinton p-Value =\", nar_test_clint)"
   ]
  },
  {
   "cell_type": "markdown",
   "metadata": {},
   "source": [
    "### Metric 5: Lexical Density"
   ]
  },
  {
   "cell_type": "markdown",
   "metadata": {},
   "source": [
    "Lexical Density is also known as vocabulary diversity -- it defines how many different unique words the speaker uses. It can be used to measure the intelligence of the candidate -- as well as the creativity of their campaign (or speechwriter). Higher lexical density corresponds to lower vocabulary diversity -- meaning that the speaker uses fewer unique words. In contrast, lower density means higher diversity, which means more unique words used in the speech."
   ]
  },
  {
   "cell_type": "markdown",
   "metadata": {},
   "source": [
    "#### Inaugural Addresses"
   ]
  },
  {
   "cell_type": "code",
   "execution_count": 49,
   "metadata": {},
   "outputs": [
    {
     "name": "stdout",
     "output_type": "stream",
     "text": [
      "[596, 90, 794, 681, 778, 521, 519, 982, 1196, 966, 502, 475, 1330, 1817, 1263, 483, 1117, 894, 1014, 338, 469, 520, 807, 972, 645, 1302, 794, 1192, 812, 383, 1374, 629, 524, 1120, 1157, 1025, 709, 691, 504, 264, 743, 852, 591, 544, 531, 719, 517, 492, 846, 863, 748, 598, 724, 585, 724, 901, 786, 544]\n",
      "[0.41620111731843573, 0.6666666666666666, 0.3420939250323137, 0.3940972222222222, 0.35902168897092757, 0.44340425531914895, 0.4282178217821782, 0.29061852619118084, 0.26768128916741274, 0.33150308853809196, 0.44582593250444047, 0.4028837998303647, 0.3405889884763124, 0.21459785047832763, 0.2612202688728025, 0.44149908592321757, 0.3338314405260012, 0.31313485113835376, 0.27887788778877887, 0.4774011299435028, 0.41651865008880995, 0.3889304412864622, 0.3251410153102337, 0.32475776812562646, 0.3807556080283353, 0.29597635826324165, 0.3915187376725838, 0.2996480643539467, 0.3642889187976671, 0.38647830474268413, 0.25234159779614324, 0.36676384839650145, 0.34270765206017006, 0.33432835820895523, 0.2853267570900123, 0.27246145667198296, 0.3771276595744681, 0.3788377192982456, 0.38009049773755654, 0.48, 0.32673702726473175, 0.3481814466693911, 0.360146252285192, 0.4032616753150482, 0.3573351278600269, 0.338991041961339, 0.28674431503050474, 0.39967506092607635, 0.34474327628361856, 0.3359283768003114, 0.3200684638425332, 0.3765743073047859, 0.3372147182114579, 0.3697850821744627, 0.35179786200194363, 0.37793624161073824, 0.3766171538092956, 0.37362637362637363]\n"
     ]
    }
   ],
   "source": [
    "UniqueWords = []\n",
    "\n",
    "for i in inaug_word_tokens:\n",
    "    UniqueWords.append(list(set(i)))\n",
    "\n",
    "NumUnique = []\n",
    "for i in UniqueWords:\n",
    "    NumUnique.append(len(i))\n",
    "\n",
    "print(NumUnique)\n",
    "\n",
    "def lexical_diversity(text):\n",
    "    return len(set(text)) / len(text)\n",
    "\n",
    "LexiDiv = []\n",
    "for i in inaug_word_tokens:\n",
    "    LexiDiv.append(lexical_diversity(i))\n",
    "\n",
    "print(LexiDiv)"
   ]
  },
  {
   "cell_type": "code",
   "execution_count": 52,
   "metadata": {},
   "outputs": [],
   "source": [
    "inaug_dat['NumUniqueWords'] = NumUnique\n",
    "inaug_dat['LexicalDiversity'] = LexiDiv"
   ]
  },
  {
   "cell_type": "code",
   "execution_count": 53,
   "metadata": {},
   "outputs": [
    {
     "data": {
      "image/png": "[encoded data removed]",
      "text/plain": [
       "<Figure size 1152x288 with 1 Axes>"
      ]
     },
     "metadata": {
      "needs_background": "light"
     },
     "output_type": "display_data"
    }
   ],
   "source": [
    "plt.figure(figsize=(16,4))\n",
    "ax = sns.barplot(x=inaug_dat['Term'], y=inaug_dat['LexicalDiversity'],\\\n",
    "                 errwidth=0)\n",
    "ax.set(ylim=(0, 0.8))\n",
    "sns.despine()\n",
    "plt.show()"
   ]
  },
  {
   "cell_type": "markdown",
   "metadata": {},
   "source": [
    "#### Debates"
   ]
  },
  {
   "cell_type": "code",
   "execution_count": 54,
   "metadata": {},
   "outputs": [
    {
     "name": "stdout",
     "output_type": "stream",
     "text": [
      "Clinton:  2451 , Trump:  2045\n",
      "lexical diversity for Clinton is 0.12161357546888955\n",
      "lexical diversity for Trump is 0.08646934460887949\n"
     ]
    }
   ],
   "source": [
    "# Who uses more unique words?\n",
    "\n",
    "ClintonUnique = list(set(ClintonTokens))\n",
    "TrumpUnique = list(set(TrumpTokens))\n",
    "ClintonNumUnique = len(ClintonUnique)\n",
    "TrumpNumUnique = len(TrumpUnique)\n",
    "\n",
    "print(\"Clinton: \", ClintonNumUnique, \", Trump: \", TrumpNumUnique)\n",
    "\n",
    "def lexical_diversity(text):\n",
    "    return len(set(text)) / len(text)\n",
    "\n",
    "ClintonLexiDiv = lexical_diversity(ClintonTokens)\n",
    "TrumpLexiDiv = lexical_diversity(TrumpTokens)\n",
    "print(\"lexical diversity for Clinton is\", ClintonLexiDiv)\n",
    "print(\"lexical diversity for Trump is\", TrumpLexiDiv)\n",
    "\n",
    "# Clinton uses more unique words than Trump."
   ]
  },
  {
   "cell_type": "code",
   "execution_count": 55,
   "metadata": {},
   "outputs": [
    {
     "name": "stdout",
     "output_type": "stream",
     "text": [
      "[['Trump', 0.08646934460887949], ['Clinton', 0.12161357546888955]]\n"
     ]
    },
    {
     "data": {
      "image/png": "[encoded data removed]",
      "text/plain": [
       "<Figure size 432x432 with 1 Axes>"
      ]
     },
     "metadata": {
      "needs_background": "light"
     },
     "output_type": "display_data"
    }
   ],
   "source": [
    "ld_data = [[\"Trump\", TrumpLexiDiv], [\"Clinton\", ClintonLexiDiv]] \n",
    "lex_diversity = pd.DataFrame(ld_data, columns = [\"Candidate\",\\\n",
    "                                                 \"Lex_div\"])\n",
    "lex_diversity_plot = sns.catplot(x=\"Candidate\", y=\"Lex_div\",\\\n",
    "                                 hue=\"Candidate\",\\\n",
    "                                 data = lex_diversity,\n",
    "                height=6, kind=\"bar\", palette=\\\n",
    "                                 (sns.color_palette(\"RdBu\",\\\n",
    "                                                    n_colors=2)))\n",
    "\n",
    "plt.xlabel(\"Candidate\")\n",
    "plt.ylabel(\"Lexical Diversity\")\n",
    "plt.title(\"Debates: Lexical Diversity per Candidate\")\n",
    "print(ld_data)"
   ]
  },
  {
   "cell_type": "markdown",
   "metadata": {},
   "source": [
    "#### Comparison"
   ]
  },
  {
   "cell_type": "code",
   "execution_count": null,
   "metadata": {},
   "outputs": [],
   "source": []
  },
  {
   "cell_type": "markdown",
   "metadata": {},
   "source": [
    "### Metric 6: Sentiment Analysis\n",
    "Sentiment analysis is the exploration of emotionality within speech -- and in a simplified positive/negative framework can be used to characterize the speaker's attitudes or values. A more positive sentiment score (a larger score) may correspond to more optimistic language and messages of hope and triumph, while a smaller sentiment score may correspond to messages of fear and conflict. Since Donald Trump's campaign has been highly criticized for its divisive tactics, this metric is very important to understand."
   ]
  },
  {
   "cell_type": "markdown",
   "metadata": {},
   "source": [
    "#### Set Up"
   ]
  },
  {
   "cell_type": "code",
   "execution_count": 56,
   "metadata": {},
   "outputs": [],
   "source": [
    "analyser = SentimentIntensityAnalyzer()\n",
    "\n",
    "def sentiment_analyzer_scores(sentence):\n",
    "    score = analyser.polarity_scores(sentence)\n",
    "    return score[\"compound\"]\n",
    "\n",
    "def getAvgSentiment(whatsaid):\n",
    "    totalNum = 0\n",
    "    totalScore = 0\n",
    "    for sentence in whatsaid:\n",
    "        totalScore = totalScore +\\\n",
    "        sentiment_analyzer_scores(sentence)\n",
    "        totalNum = totalNum + 1\n",
    "    return (totalScore / totalNum)"
   ]
  },
  {
   "cell_type": "markdown",
   "metadata": {},
   "source": [
    "#### Inaugural Addresses"
   ]
  },
  {
   "cell_type": "code",
   "execution_count": 57,
   "metadata": {},
   "outputs": [],
   "source": [
    "inaug_polarity = pd.DataFrame(index=inaug_dat.index,\\\n",
    "                              columns=['Positive Count',\\\n",
    "                                       'Negative Count',\\\n",
    "                                       'Neutral Count',\\\n",
    "                                       'Total Count',\\\n",
    "                                       'Positive Percent',\\\n",
    "                                       'Negative Percent',\\\n",
    "                                       'Neutral Percent'])"
   ]
  },
  {
   "cell_type": "code",
   "execution_count": 58,
   "metadata": {},
   "outputs": [],
   "source": [
    "inaug_blob = TextBlob(inaug_sent[57])\n",
    "inaug_blob.sentences\n",
    "pos_count = 0\n",
    "neg_count = 0\n",
    "neu_count = 0\n",
    "\n",
    "\n",
    "for x in inaug_sent:\n",
    "    for i in range(len(inaug_sent)):\n",
    "        pos_count = 0\n",
    "        neg_count = 0\n",
    "        neu_count = 0\n",
    "        inaug_blob = TextBlob(inaug_sent[i])\n",
    "        for sentence in inaug_blob.sentences:\n",
    "            if sentence.sentiment.polarity > 0:\n",
    "                pos_count = pos_count + 1\n",
    "            elif sentence.sentiment.polarity == 0:\n",
    "                neu_count = neu_count + 1\n",
    "            else:\n",
    "                neg_count = neg_count + 1\n",
    "        inaug_polarity.iloc[i,0] = pos_count\n",
    "        inaug_polarity.iloc[i,1] = neg_count\n",
    "        inaug_polarity.iloc[i,2] = neu_count"
   ]
  },
  {
   "cell_type": "code",
   "execution_count": 59,
   "metadata": {},
   "outputs": [],
   "source": [
    "for i in inaug_polarity.index:\n",
    "    total = 0\n",
    "    total = inaug_polarity.iloc[i,0] + inaug_polarity.iloc[i,1] +\\\n",
    "    inaug_polarity.iloc[i,2]\n",
    "    inaug_polarity.iloc[i,3] = total\n",
    "    \n",
    "    \n",
    "for i in inaug_polarity.index:\n",
    "    pos_percent = (inaug_polarity.iloc[i,0]/\\\n",
    "                   inaug_polarity.iloc[i,3])*100\n",
    "    inaug_polarity.iloc[i,4] = pos_percent\n",
    "    neg_percent = (inaug_polarity.iloc[i,1]/\\\n",
    "                   inaug_polarity.iloc[i,3])*100\n",
    "    inaug_polarity.iloc[i,5] = neg_percent\n",
    "    neu_percent = (inaug_polarity.iloc[i,2]/\\\n",
    "                   inaug_polarity.iloc[i,3])*100\n",
    "    inaug_polarity.iloc[i,6] = neu_percent"
   ]
  },
  {
   "cell_type": "code",
   "execution_count": 61,
   "metadata": {},
   "outputs": [
    {
     "data": {
      "image/png": "[encoded data removed]",
      "text/plain": [
       "<Figure size 1728x360 with 1 Axes>"
      ]
     },
     "metadata": {
      "needs_background": "light"
     },
     "output_type": "display_data"
    }
   ],
   "source": [
    "ind = np.arange(58)\n",
    "width = 0.8\n",
    "plt.figure(figsize=(24,5))\n",
    "\n",
    "p1 = plt.bar(ind, inaug_polarity['Positive Percent'],\\\n",
    "             width, color='lightblue')\n",
    "p2 = plt.bar(ind, inaug_polarity['Negative Percent'],\\\n",
    "             width, bottom = inaug_polarity['Positive Percent'],\\\n",
    "             color='crimson')\n",
    "p3 = plt.bar(ind, inaug_polarity['Neutral Percent'],\\\n",
    "             width, bottom = inaug_polarity['Negative Percent']+\\\n",
    "             inaug_polarity['Positive Percent'], color='lightgray')\n",
    "\n",
    "plt.ylabel('Percentage')\n",
    "plt.title('Sentiment Analysis on Inaugural Addresses')\n",
    "plt.xticks(ind, inaug_dat['Term'])\n",
    "plt.yticks(np.arange(0,110,10))\n",
    "plt.legend((p1[0], p2[0]), ('Pos', 'Neg'))\n",
    "sns.despine()\n",
    "\n",
    "plt.show()"
   ]
  },
  {
   "cell_type": "code",
   "execution_count": 75,
   "metadata": {},
   "outputs": [
    {
     "data": {
      "image/png": "[encoded data removed]",
      "text/plain": [
       "<Figure size 1152x288 with 1 Axes>"
      ]
     },
     "metadata": {
      "needs_background": "light"
     },
     "output_type": "display_data"
    }
   ],
   "source": [
    "plt.figure(figsize=(16,4))\n",
    "ax = sns.barplot(x=inaug_polarity.index,\\\n",
    "                 y=inaug_polarity['Positive Percent'], errwidth=0)\n",
    "sns.despine()\n",
    "ax.set_title('Percentage of Positive Sentences'\\\n",
    "             ' in every inaugural address')\n",
    "plt.show()"
   ]
  },
  {
   "cell_type": "code",
   "execution_count": 65,
   "metadata": {},
   "outputs": [
    {
     "data": {
      "image/png": "[encoded data removed]",
      "text/plain": [
       "<Figure size 1152x288 with 1 Axes>"
      ]
     },
     "metadata": {
      "needs_background": "light"
     },
     "output_type": "display_data"
    }
   ],
   "source": [
    "plt.figure(figsize=(16,4))\n",
    "ax = sns.barplot(x=inaug_polarity.index, y=\\\n",
    "                 inaug_polarity['Negative Percent'], errwidth=0)\n",
    "sns.despine()\n",
    "ax.set_title(\\\n",
    "'Percentage of Negative Sentences in every inaugural address')\n",
    "plt.show()"
   ]
  },
  {
   "cell_type": "markdown",
   "metadata": {},
   "source": [
    "#### Debates"
   ]
  },
  {
   "cell_type": "code",
   "execution_count": 66,
   "metadata": {},
   "outputs": [
    {
     "name": "stdout",
     "output_type": "stream",
     "text": [
      "Trump has sentiment score: 1.0 (higher is more positive)\n",
      "Clinton has sentiment score: 1.0 (higher is more positive)\n"
     ]
    }
   ],
   "source": [
    "TrumpAvgSentiment = getAvgSentiment(whatTrumpSaid.splitlines())\n",
    "ClintonAvgSentiment = getAvgSentiment(whatClintonSaid.splitlines())\n",
    "\n",
    "print(\"Trump has sentiment score:\" , TrumpAvgSentiment,\\\n",
    "      \"(higher is more positive)\")\n",
    "print(\"Clinton has sentiment score:\" , ClintonAvgSentiment,\\\n",
    "      \"(higher is more positive)\")\n",
    "\n",
    "## Clinton is more positive."
   ]
  },
  {
   "cell_type": "code",
   "execution_count": 67,
   "metadata": {},
   "outputs": [
    {
     "name": "stdout",
     "output_type": "stream",
     "text": [
      "[['Trump', 1.0], ['Clinton', 1.0]]\n"
     ]
    },
    {
     "data": {
      "image/png": "[encoded data removed]",
      "text/plain": [
       "<Figure size 432x432 with 1 Axes>"
      ]
     },
     "metadata": {
      "needs_background": "light"
     },
     "output_type": "display_data"
    }
   ],
   "source": [
    "sa_data = [[\"Trump\", TrumpAvgSentiment],\\\n",
    "           [\"Clinton\",ClintonAvgSentiment]] \n",
    "d_sent_analysis = pd.DataFrame(sa_data, columns =\\\n",
    "                               [\"Candidate\", \"Sent_ana\"])\n",
    "d_sent_analysis_plot =\\\n",
    "sns.catplot(x=\"Candidate\", y=\"Sent_ana\", hue=\"Candidate\",\\\n",
    "            data = d_sent_analysis,\\\n",
    "            height=6, kind=\"bar\",\\\n",
    "            palette=(sns.color_palette(\"RdBu\", n_colors=2)))\n",
    "\n",
    "plt.xlabel(\"Candidate\")\n",
    "plt.ylabel(\"Sentiment Score\")\n",
    "plt.title(\"Debates: Sentiment Analysis of Candidates\")\n",
    "print(sa_data)"
   ]
  },
  {
   "cell_type": "code",
   "execution_count": 68,
   "metadata": {},
   "outputs": [],
   "source": [
    "index = np.arange(0,2)\n",
    "# index = ['Trump','Clinton']\n",
    "deb_polarity = pd.DataFrame(index=index, \\\n",
    "                            columns=['Positive Count',\\\n",
    "                                     'Negative Count',\\\n",
    "                                     'Neutral Count',\\\n",
    "                                     'Total Count',\\\n",
    "                                     'Positive Percent',\\\n",
    "                                     'Negative Percent',\\\n",
    "                                     'Neutral Percent'])"
   ]
  },
  {
   "cell_type": "code",
   "execution_count": 69,
   "metadata": {},
   "outputs": [
    {
     "data": {
      "text/plain": [
       "1424"
      ]
     },
     "execution_count": 69,
     "metadata": {},
     "output_type": "execute_result"
    }
   ],
   "source": [
    "deb_trump_blob = TextBlob(whatTrumpSaid)\n",
    "len(deb_trump_blob.sentences)"
   ]
  },
  {
   "cell_type": "code",
   "execution_count": 70,
   "metadata": {},
   "outputs": [],
   "source": [
    "pos_count = 0\n",
    "neg_count = 0\n",
    "neu_count = 0\n",
    "\n",
    "deb_trump_blob = TextBlob(whatTrumpSaid)\n",
    "for sentence in deb_trump_blob.sentences:\n",
    "    if sentence.sentiment.polarity > 0:\n",
    "        pos_count = pos_count + 1\n",
    "    elif sentence.sentiment.polarity == 0:\n",
    "        neu_count = neu_count + 1\n",
    "    else:\n",
    "        neg_count = neg_count + 1\n",
    "deb_polarity.iloc[0,0] = pos_count\n",
    "deb_polarity.iloc[0,1] = neg_count\n",
    "deb_polarity.iloc[0,2] = neu_count"
   ]
  },
  {
   "cell_type": "code",
   "execution_count": 89,
   "metadata": {},
   "outputs": [],
   "source": [
    "pos_count = 0\n",
    "neg_count = 0\n",
    "neu_count = 0\n",
    "\n",
    "deb_clinton_blob = TextBlob(whatClintonSaid)\n",
    "for sentence in deb_clinton_blob.sentences:\n",
    "    if sentence.sentiment.polarity > 0:\n",
    "        pos_count = pos_count + 1\n",
    "    elif sentence.sentiment.polarity == 0:\n",
    "        neu_count = neu_count + 1\n",
    "    else:\n",
    "        neg_count = neg_count + 1\n",
    "deb_polarity.iloc[1,0] = pos_count\n",
    "deb_polarity.iloc[1,1] = neg_count\n",
    "deb_polarity.iloc[1,2] = neu_count"
   ]
  },
  {
   "cell_type": "code",
   "execution_count": 73,
   "metadata": {},
   "outputs": [],
   "source": [
    "for i in deb_polarity.index:\n",
    "    total = 0\n",
    "    total = deb_polarity.iloc[i,0] + deb_polarity.iloc[i,1] +\\\n",
    "    deb_polarity.iloc[i,2]\n",
    "    deb_polarity.iloc[i,3] = total\n",
    "    \n",
    "    \n",
    "for i in deb_polarity.index:\n",
    "    pos_percent = (deb_polarity.iloc[i,0]/\\\n",
    "                   deb_polarity.iloc[i,3])*100\n",
    "    deb_polarity.iloc[i,4] = pos_percent\n",
    "    neg_percent = (deb_polarity.iloc[i,1]/\\\n",
    "                   deb_polarity.iloc[i,3])*100\n",
    "    deb_polarity.iloc[i,5] = neg_percent\n",
    "    neu_percent = (deb_polarity.iloc[i,2]/\\\n",
    "                   deb_polarity.iloc[i,3])*100\n",
    "    deb_polarity.iloc[i,6] = neu_percent"
   ]
  },
  {
   "cell_type": "code",
   "execution_count": 91,
   "metadata": {},
   "outputs": [
    {
     "data": {
      "text/html": [
       "<div>\n",
       "<style scoped>\n",
       "    .dataframe tbody tr th:only-of-type {\n",
       "        vertical-align: middle;\n",
       "    }\n",
       "\n",
       "    .dataframe tbody tr th {\n",
       "        vertical-align: top;\n",
       "    }\n",
       "\n",
       "    .dataframe thead th {\n",
       "        text-align: right;\n",
       "    }\n",
       "</style>\n",
       "<table border=\"1\" class=\"dataframe\">\n",
       "  <thead>\n",
       "    <tr style=\"text-align: right;\">\n",
       "      <th></th>\n",
       "      <th>Positive Count</th>\n",
       "      <th>Negative Count</th>\n",
       "      <th>Neutral Count</th>\n",
       "      <th>Total Count</th>\n",
       "      <th>Positive Percent</th>\n",
       "      <th>Negative Percent</th>\n",
       "      <th>Neutral Percent</th>\n",
       "    </tr>\n",
       "  </thead>\n",
       "  <tbody>\n",
       "    <tr>\n",
       "      <th>0</th>\n",
       "      <td>491</td>\n",
       "      <td>262</td>\n",
       "      <td>671</td>\n",
       "      <td>1424</td>\n",
       "      <td>34.4803</td>\n",
       "      <td>18.3989</td>\n",
       "      <td>47.1208</td>\n",
       "    </tr>\n",
       "    <tr>\n",
       "      <th>1</th>\n",
       "      <td>344</td>\n",
       "      <td>112</td>\n",
       "      <td>316</td>\n",
       "      <td>772</td>\n",
       "      <td>44.5596</td>\n",
       "      <td>14.5078</td>\n",
       "      <td>40.9326</td>\n",
       "    </tr>\n",
       "  </tbody>\n",
       "</table>\n",
       "</div>"
      ],
      "text/plain": [
       "  Positive Count Negative Count Neutral Count Total Count Positive Percent  \\\n",
       "0            491            262           671        1424          34.4803   \n",
       "1            344            112           316         772          44.5596   \n",
       "\n",
       "  Negative Percent Neutral Percent  \n",
       "0          18.3989         47.1208  \n",
       "1          14.5078         40.9326  "
      ]
     },
     "execution_count": 91,
     "metadata": {},
     "output_type": "execute_result"
    }
   ],
   "source": [
    "# Index 0 is Trump\n",
    "# Index 1 is Clinton\n",
    "deb_polarity"
   ]
  },
  {
   "cell_type": "markdown",
   "metadata": {},
   "source": [
    "# Ethics & Privacy"
   ]
  },
  {
   "cell_type": "markdown",
   "metadata": {},
   "source": [
    "In our project, privacy is not a huge concern. All of this data are public and freely available, so there is no risk of exposing someone's private information. In fact, knowledge of political events is for the public good, as it affects all citizens, residents, and visitors of the United States (not to mention countless people abroad).\n",
    "\n",
    "As for ethics, we are not conducting any analysis that is unusual for political discussions. However, since politics is a very critical part of daily life and often incites controversy, some may argue that there are ethical implications in any political discussion or exploration. In broader domains (outside the scope of our project), ethical concerns are crucial to political data science. If the science is improper or the data is skewed or mishandled, bias can influence the public in impactful ways. It becomes easy to lie about public attitudes or the effects of certain policies if data is handled maliciously -- especially since many average citizens don't have the time to conduct their own research or fact-checking.\n",
    "\n",
    "For this reasons, it is crucial that data is handled objectively and that ethical concerns are addressed when handling political data. We have done our utmost to maintain this level of objectivity by ensuring that our hypothesis or internal feelings about certain candidates do not bleed through into our analysis. We tried to take commonly-known metrics of speech measurement (such as TF-IDF and the narcissism index) rather than developing our own metrics that could unintentionally introduce bias."
   ]
  },
  {
   "cell_type": "markdown",
   "metadata": {},
   "source": [
    "# Conclusion & Discussion"
   ]
  },
  {
   "cell_type": "markdown",
   "metadata": {},
   "source": [
    "Our initial question was: how have campaign tactics changed over time, and how do they differ across party lines? To answer this question, we explored inaugural addresses of the United States Presidents (our time-scale data) and debates during the most recent presidential election (our party line data). \n",
    "\n",
    "Within each of these datasets, we were able to find interesting insights about each of our metrics. \n",
    "\n",
    "For a refresher, here is our **original hypothesis**:\n",
    "\n",
    "> \"We think that Donald Trump's debates will have a lower average word length, higher degrees of narcissism, higher density of (fewer unique) words, extreme emotional sentiment (positive and negative). We believe this will be due to Trump's lack of political experience, as well as his reputation as a brash and decisive person.\n",
    "\n",
    ">In contrast, Hillary Clinton's debates will have a higher average word length and sentence length, lower degrees of narcissism, lower density of (more unique) words, and more neutral in emotional sentiment. We believe this will be due to Clinton's experience as a politician, as well as her reputation as an educated and calculating person.\n",
    "\n",
    ">In our time-scale analysis of inaugural addresses, we hypothesize that word frequency increases, average word length and sentence length decrease, narcissism increases, and lexical density increases over time. We believe this due to an increasing appeal to the public (including those not educated about political affairs).\n",
    "\n",
    "For each of these comparative analyses, the null hypothesis is that the debate techniques (defined by our 6 metrics) of debates are not significantly different from inaugural addresses. Our alternative hypothesis is that there is a statistically significant difference between the debate techniques and the inaugural address techniques.\"\n",
    "\n",
    "**Metric 1: Total Words**\n",
    "\n",
    "- The shorter inaugural address is George Washington's second term, and the longest (by a considerable amount) was William Harrison.\n",
    "- Trump has more total words than Clinton. \n",
    "\n",
    "**Metric 2: Word Frequency**\n",
    "\n",
    "- For most of top words that both said, Trump said it more times than Clinton\n",
    "- A notable exception is the word \"think,\" which Clinton said more.\n",
    "- We did not have distinct hypotheses about word frequency,\n",
    "\n",
    "**Metric 3: Average Word Length**\n",
    "\n",
    "- Inaugural address' average words length rose then fell over time. The average of all words is skewed left (longer words earlier, words have gotten shorter).\n",
    "- The average word length is about the same for both Trump and Clinton. Both are statistically significant compared to the inaugural data, but the non-normality of the dataset may explain this unexpected result.\n",
    "\n",
    "**Metric 4: Narcissism Index**\n",
    "\n",
    "- George Washington's first two addresses are the two most narcissistic of the inaugural addresses, by a significant margin.\n",
    "- Over time, inaugural addresses have become much less self-referential, or less narcissistic.\n",
    "- Trump's narcissism index is higher than Clinton's, which supports our hypothesis, but only by a small amount.\n",
    "- Trump has more inclusive language (\"us\", \"we\") than Clinton, and the two have about the same amount of references to country-oriented words (\"nation\", \"United States\").\n",
    "\n",
    "**Metric 5: Lexical Density**\n",
    "\n",
    "- Clinton uses more unique words (lower density, higher diversity) than Trump, which supports our hypothesis.\n",
    "\n",
    "**Metric 6: Sentiment Analysis**\n",
    "\n",
    "- In the inaugural addresses, there is much more fluctuation in negative sentences --every couple of presidents sees a spike in negative language\n",
    "- Positive language fluctuates a little, but to a much lesser degree. The first 15-20 speeches are consistently positive, but the latter half of speeches see much less positive language overall.\n",
    "- In total, Clinton has a much higher sentiment score than Trump, suggesting that her speech is much more positive or optimistic than his. This supports our hypothesis that Trump's speeches rely on more negative language, but it contradicts our hypothesis in that we believed he would be more extreme negatively and positively. Clinton surprised us with her significantly higher sentiment score.\n",
    "\n",
    "From our analysis of the inaugural addresses, we saw how different historical contexts produced different addresses. This was made evident in the clustering portion of our analysis, especially with FDR's outlier clustering that was influenced by the onset of World War II. Sometimes the addresses would convey a sense of \"duty\" and \"power\" to the people; other times it called for national unity and perserverence; and some times it would be about patriotism and national pride. Though we cannot conclude anything with certainty, we can see that the addresses would change according to different time periods so as to best reflect American sentiment and ongoing events.\n",
    "\n",
    "We attempted to cross-reference our data and compare the debates with the inaugural addresses, however, our analysis was not feasible given the data we were working with. On a conceptual level, debates and inaugural addresses are extremely different in their purpose and function. We hoped we could still find important insights from it. But each of the metrics generated inaugural data that was distinctly non-normal. Therefore, when we conducted informal Z-tests with the relevant metrics and received p-values, the non-normality rendered our p-values ineffective at accurately describing statistical significance.\n",
    "\n",
    "Overall, we feel that our data gave us important results, such as showing which presidents were more narcissistic and highlighting sentiment distribution for each of the candidates. Even though our final comparative analysis was not as successful, we are excited by the information we collected from our more successful measurements. If given the opportunity, we would go further by analyzing campaign speeches or other sorts of public speaking that could lend more insight into speech tactics. "
   ]
  }
 ],
 "metadata": {
  "kernelspec": {
   "display_name": "Python 3",
   "language": "python",
   "name": "python3"
  },
  "language_info": {
   "codemirror_mode": {
    "name": "ipython",
    "version": 3
   },
   "file_extension": ".py",
   "mimetype": "text/x-python",
   "name": "python",
   "nbconvert_exporter": "python",
   "pygments_lexer": "ipython3",
   "version": "3.9.0"
  }
 },
 "nbformat": 4,
 "nbformat_minor": 4
}
